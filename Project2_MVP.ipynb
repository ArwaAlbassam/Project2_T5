{
  "nbformat": 4,
  "nbformat_minor": 0,
  "metadata": {
    "colab": {
      "name": "last update .ipynb",
      "provenance": [],
      "collapsed_sections": [
        "Uo-hVODsOZvj"
      ],
      "include_colab_link": true
    },
    "kernelspec": {
      "display_name": "Python 3",
      "language": "python",
      "name": "python3"
    },
    "language_info": {
      "codemirror_mode": {
        "name": "ipython",
        "version": 3
      },
      "file_extension": ".py",
      "mimetype": "text/x-python",
      "name": "python",
      "nbconvert_exporter": "python",
      "pygments_lexer": "ipython3",
      "version": "3.8.3"
    }
  },
  "cells": [
    {
      "cell_type": "markdown",
      "metadata": {
        "id": "view-in-github",
        "colab_type": "text"
      },
      "source": [
        "<a href=\"https://colab.research.google.com/github/ArwaAlbassam/Project2_T5/blob/main/Project2_MVP.ipynb\" target=\"_parent\"><img src=\"https://colab.research.google.com/assets/colab-badge.svg\" alt=\"Open In Colab\"/></a>"
      ]
    },
    {
      "cell_type": "markdown",
      "metadata": {
        "id": "Uo-hVODsOZvj"
      },
      "source": [
        "# **Predicting car price using linear regression**"
      ]
    },
    {
      "cell_type": "markdown",
      "metadata": {
        "id": "Tf5T1v9ROmym"
      },
      "source": [
        "# **Import packages**"
      ]
    },
    {
      "cell_type": "code",
      "metadata": {
        "id": "0jIHIdoumn6S",
        "colab": {
          "base_uri": "https://localhost:8080/"
        },
        "outputId": "ae529ed5-1d4c-4bc1-9673-063db03efefd"
      },
      "source": [
        "from bs4 import BeautifulSoup as bs\n",
        "import requests\n",
        "import numpy as np\n",
        "import pandas as pd \n",
        "import matplotlib.pyplot as plt\n",
        "%matplotlib inline\n",
        "import seaborn as sns\n",
        "from sklearn.preprocessing import (scale, StandardScaler)\n",
        "from sklearn import linear_model\n",
        "from sklearn.linear_model import (LinearRegression, Lasso)\n",
        "import statsmodels.api as sm\n",
        "import statsmodels.formula.api as smf\n",
        "from sklearn.feature_selection import RFE\n",
        "import matplotlib.ticker as plticker\n",
        "import scipy.stats as stats\n",
        "from sklearn.model_selection import (cross_val_score, train_test_split, \n",
        "                                     KFold, GridSearchCV)\n",
        "from sklearn.metrics import (mean_squared_error, r2_score)\n",
        "import sklearn.metrics as metrics"
      ],
      "execution_count": null,
      "outputs": [
        {
          "output_type": "stream",
          "name": "stderr",
          "text": [
            "/usr/local/lib/python3.7/dist-packages/statsmodels/tools/_testing.py:19: FutureWarning: pandas.util.testing is deprecated. Use the functions in the public API at pandas.testing instead.\n",
            "  import pandas.util.testing as tm\n"
          ]
        }
      ]
    },
    {
      "cell_type": "markdown",
      "metadata": {
        "id": "3EJ08xXEO93-"
      },
      "source": [
        "# **Data scraping**"
      ]
    },
    {
      "cell_type": "markdown",
      "metadata": {
        "id": "I5GIVyxXPId_"
      },
      "source": [
        "Scraping data from cars.com website"
      ]
    },
    {
      "cell_type": "code",
      "metadata": {
        "id": "VRNbwTwKPDzM"
      },
      "source": [
        "session=requests.session()\n",
        "headers={\"User-Agent\":\"Mozilla/5.0 (X11; Linux x86_64; rv:60.0) Gecko/20100101 Firefox/60.0\",\"Accept\":\"text/html,application/xhtml+xml,application/xml;q=0.9,*/*;q=0.8\"}\n",
        "url = 'https://www.cars.com/shopping/results/?makes[]=honda&page=1&page_size=100&stock_type=used&zip=60606'\n",
        "req=requests.get(url)\n",
        "soup=bs(req.text,'html.parser')\n",
        "url2 = 'https://www.cars.com/shopping/results/?makes[]=honda&page=2&page_size=100&stock_type=used&zip=60606'\n",
        "req2=requests.get(url2)\n",
        "soup2=bs(req2.text,'html.parser')"
      ],
      "execution_count": null,
      "outputs": []
    },
    {
      "cell_type": "markdown",
      "metadata": {
        "id": "PqmdgGkWSGfO"
      },
      "source": [
        "# **Exploratory data analysis (EDA)**"
      ]
    },
    {
      "cell_type": "markdown",
      "metadata": {
        "id": "w07IEdawMirX"
      },
      "source": [
        " **Pre-Processing**"
      ]
    },
    {
      "cell_type": "code",
      "metadata": {
        "colab": {
          "base_uri": "https://localhost:8080/"
        },
        "id": "J_HP6cHemn6U",
        "outputId": "6b0175e3-ef24-43da-be11-496a2b1c4025"
      },
      "source": [
        "DESCRIPTION = []\n",
        "for element in soup.find_all('a',class_='vehicle-card-link'):\n",
        "    DESCRIPTION.append(element.text.replace('\\n','').split(' ',1))\n",
        "for element in soup2.find_all('a',class_='vehicle-card-link'):\n",
        "    DESCRIPTION.append(element.text.replace('\\n','').split(' ',1))\n",
        "\n",
        "len(DESCRIPTION)"
      ],
      "execution_count": null,
      "outputs": [
        {
          "output_type": "execute_result",
          "data": {
            "text/plain": [
              "200"
            ]
          },
          "metadata": {},
          "execution_count": 3
        }
      ]
    },
    {
      "cell_type": "code",
      "metadata": {
        "colab": {
          "base_uri": "https://localhost:8080/"
        },
        "id": "hGyzG2IUmn6W",
        "outputId": "c08e419f-4cb3-4ff6-db1a-6ffd152ebd79"
      },
      "source": [
        "len(DESCRIPTION)"
      ],
      "execution_count": null,
      "outputs": [
        {
          "output_type": "execute_result",
          "data": {
            "text/plain": [
              "200"
            ]
          },
          "metadata": {},
          "execution_count": 4
        }
      ]
    },
    {
      "cell_type": "code",
      "metadata": {
        "id": "78oA7GTImn6X"
      },
      "source": [
        "DEALER = []\n",
        "for element in soup.find_all('div',class_='dealer-name'):\n",
        "    DEALER.append(element.text.replace('\\n',''))\n",
        "for element in soup2.find_all('div',class_='dealer-name'):\n",
        "    DEALER.append(element.text.replace('\\n',''))"
      ],
      "execution_count": null,
      "outputs": []
    },
    {
      "cell_type": "code",
      "metadata": {
        "colab": {
          "base_uri": "https://localhost:8080/"
        },
        "id": "Z6DezfiCmn6Y",
        "outputId": "611cf98a-fc34-4eff-fc51-62092dc8070e"
      },
      "source": [
        "len(DEALER)"
      ],
      "execution_count": null,
      "outputs": [
        {
          "output_type": "execute_result",
          "data": {
            "text/plain": [
              "200"
            ]
          },
          "metadata": {},
          "execution_count": 6
        }
      ]
    },
    {
      "cell_type": "code",
      "metadata": {
        "id": "xaEH3xTUmn6Y"
      },
      "source": [
        "MILES_DRIVEN = []\n",
        "for element in soup.find_all('div',class_='mileage'):\n",
        "    MILES_DRIVEN.append(element.text.replace('\\n','').replace(',','').replace('mi.','').strip())\n",
        "for element in soup2.find_all('div',class_='mileage'):\n",
        "    MILES_DRIVEN.append(element.text.replace('\\n','').replace(',','').replace('mi.','').strip())\n",
        "MILES_DRIVEN = list(map(float,MILES_DRIVEN))"
      ],
      "execution_count": null,
      "outputs": []
    },
    {
      "cell_type": "code",
      "metadata": {
        "colab": {
          "base_uri": "https://localhost:8080/"
        },
        "id": "GkgLbSz6mn6Y",
        "outputId": "3570d76f-7741-4837-e439-5116df9a43a8"
      },
      "source": [
        "len(MILES_DRIVEN)"
      ],
      "execution_count": null,
      "outputs": [
        {
          "output_type": "execute_result",
          "data": {
            "text/plain": [
              "200"
            ]
          },
          "metadata": {},
          "execution_count": 8
        }
      ]
    },
    {
      "cell_type": "code",
      "metadata": {
        "colab": {
          "base_uri": "https://localhost:8080/"
        },
        "id": "NIa8h-oomn6Z",
        "outputId": "a3960546-18ae-4bc7-bb50-ff7e78c2f9db"
      },
      "source": [
        "type(MILES_DRIVEN[0])"
      ],
      "execution_count": null,
      "outputs": [
        {
          "output_type": "execute_result",
          "data": {
            "text/plain": [
              "float"
            ]
          },
          "metadata": {},
          "execution_count": 9
        }
      ]
    },
    {
      "cell_type": "code",
      "metadata": {
        "id": "sl1xp4Nhmn6Z"
      },
      "source": [
        "RATE = []\n",
        "for element in soup.find_all('span',class_='sds-rating__count'):\n",
        "    RATE.append(element.text.replace('\\n',''))\n",
        "for element in soup2.find_all('span',class_='sds-rating__count'):\n",
        "    RATE.append(element.text.replace('\\n',''))\n",
        "RATE = list(map(float,RATE))"
      ],
      "execution_count": null,
      "outputs": []
    },
    {
      "cell_type": "code",
      "metadata": {
        "colab": {
          "base_uri": "https://localhost:8080/"
        },
        "id": "QlXnN9cjorWX",
        "outputId": "d7b4d7ce-123b-4486-ea3d-b628e082f297"
      },
      "source": [
        "len(RATE)"
      ],
      "execution_count": null,
      "outputs": [
        {
          "output_type": "execute_result",
          "data": {
            "text/plain": [
              "200"
            ]
          },
          "metadata": {},
          "execution_count": 11
        }
      ]
    },
    {
      "cell_type": "code",
      "metadata": {
        "colab": {
          "base_uri": "https://localhost:8080/"
        },
        "id": "GOQO4phSmn6a",
        "outputId": "f17ec4ff-2f7e-42b3-9f03-6594b2e090ad"
      },
      "source": [
        "type(RATE[0])"
      ],
      "execution_count": null,
      "outputs": [
        {
          "output_type": "execute_result",
          "data": {
            "text/plain": [
              "float"
            ]
          },
          "metadata": {},
          "execution_count": 12
        }
      ]
    },
    {
      "cell_type": "code",
      "metadata": {
        "id": "g9taOC5Amn6b"
      },
      "source": [
        "NO_OF_REVIEWS = []\n",
        "for element in soup.find_all('span',class_='sds-rating__link sds-button-link'):\n",
        "    NO_OF_REVIEWS.append(element.text.replace('\\n','').replace('(','').replace(')','').replace('reviews','').replace('review','').replace(',','').strip())\n",
        "for element in soup2.find_all('span',class_='sds-rating__link sds-button-link'):\n",
        "    NO_OF_REVIEWS.append(element.text.replace('\\n','').replace('(','').replace(')','').replace('reviews','').replace('review','').replace(',','').strip())\n",
        "NO_OF_REVIEWS = list(map(int,NO_OF_REVIEWS))"
      ],
      "execution_count": null,
      "outputs": []
    },
    {
      "cell_type": "code",
      "metadata": {
        "colab": {
          "base_uri": "https://localhost:8080/"
        },
        "id": "ixf8KJ5Emn6b",
        "outputId": "d2dc9aed-3f63-4897-fb99-643320b2f840"
      },
      "source": [
        "len(NO_OF_REVIEWS)"
      ],
      "execution_count": null,
      "outputs": [
        {
          "output_type": "execute_result",
          "data": {
            "text/plain": [
              "200"
            ]
          },
          "metadata": {},
          "execution_count": 14
        }
      ]
    },
    {
      "cell_type": "code",
      "metadata": {
        "colab": {
          "base_uri": "https://localhost:8080/"
        },
        "id": "Rm-hdyucmn6c",
        "outputId": "bf97af38-d154-4f3d-dab2-f931aa1bf4a4"
      },
      "source": [
        "type(NO_OF_REVIEWS[0])"
      ],
      "execution_count": null,
      "outputs": [
        {
          "output_type": "execute_result",
          "data": {
            "text/plain": [
              "int"
            ]
          },
          "metadata": {},
          "execution_count": 15
        }
      ]
    },
    {
      "cell_type": "code",
      "metadata": {
        "id": "LtPt3z8cmn6c"
      },
      "source": [
        "PRICE = []\n",
        "for element in soup.find_all('span',class_='primary-price'):\n",
        "    PRICE.append(element.text.replace('\\n','').replace(',','').replace('$',''))\n",
        "for element in soup2.find_all('span',class_='primary-price'):\n",
        "    PRICE.append(element.text.replace('\\n','').replace(',','').replace('$',''))\n",
        "PRICE = list(map(float,PRICE))"
      ],
      "execution_count": null,
      "outputs": []
    },
    {
      "cell_type": "code",
      "metadata": {
        "colab": {
          "base_uri": "https://localhost:8080/"
        },
        "id": "ng6Dpiesmn6d",
        "outputId": "786bbd2f-7f74-458d-d3db-8df34ee7647e"
      },
      "source": [
        "len(PRICE)"
      ],
      "execution_count": null,
      "outputs": [
        {
          "output_type": "execute_result",
          "data": {
            "text/plain": [
              "200"
            ]
          },
          "metadata": {},
          "execution_count": 17
        }
      ]
    },
    {
      "cell_type": "code",
      "metadata": {
        "colab": {
          "base_uri": "https://localhost:8080/"
        },
        "id": "zibasAMPmn6e",
        "outputId": "8e43aa3b-feea-41a7-e3b5-25a564382da2"
      },
      "source": [
        "type(PRICE[0])"
      ],
      "execution_count": null,
      "outputs": [
        {
          "output_type": "execute_result",
          "data": {
            "text/plain": [
              "float"
            ]
          },
          "metadata": {},
          "execution_count": 18
        }
      ]
    },
    {
      "cell_type": "code",
      "metadata": {
        "id": "lQR9zq1Smn6e"
      },
      "source": [
        "list_of_tuples = list(zip(DESCRIPTION, DEALER, MILES_DRIVEN ,RATE ,NO_OF_REVIEWS, PRICE))"
      ],
      "execution_count": null,
      "outputs": []
    },
    {
      "cell_type": "code",
      "metadata": {
        "id": "ivbHyBhRmn6g"
      },
      "source": [
        "df = pd.DataFrame(list_of_tuples, columns = ['DESCRIPTION', 'DEALER', 'MILES_DRIVEN', 'RATE','NO_OF_REVIEWS','PRICE'])"
      ],
      "execution_count": null,
      "outputs": []
    },
    {
      "cell_type": "code",
      "metadata": {
        "id": "N-dFa4v3mn6h"
      },
      "source": [
        "df[['MODEL','CAR_NAME']]=pd.DataFrame(df.DESCRIPTION.tolist(), index= df.index)  "
      ],
      "execution_count": null,
      "outputs": []
    },
    {
      "cell_type": "code",
      "metadata": {
        "colab": {
          "base_uri": "https://localhost:8080/",
          "height": 796
        },
        "id": "O6G_l9Qimn6h",
        "outputId": "c2de942e-7057-4a80-bc0d-88257ac8a27c"
      },
      "source": [
        "df"
      ],
      "execution_count": null,
      "outputs": [
        {
          "output_type": "execute_result",
          "data": {
            "text/html": [
              "<div>\n",
              "<style scoped>\n",
              "    .dataframe tbody tr th:only-of-type {\n",
              "        vertical-align: middle;\n",
              "    }\n",
              "\n",
              "    .dataframe tbody tr th {\n",
              "        vertical-align: top;\n",
              "    }\n",
              "\n",
              "    .dataframe thead th {\n",
              "        text-align: right;\n",
              "    }\n",
              "</style>\n",
              "<table border=\"1\" class=\"dataframe\">\n",
              "  <thead>\n",
              "    <tr style=\"text-align: right;\">\n",
              "      <th></th>\n",
              "      <th>DESCRIPTION</th>\n",
              "      <th>DEALER</th>\n",
              "      <th>MILES_DRIVEN</th>\n",
              "      <th>RATE</th>\n",
              "      <th>NO_OF_REVIEWS</th>\n",
              "      <th>PRICE</th>\n",
              "      <th>MODEL</th>\n",
              "      <th>CAR_NAME</th>\n",
              "    </tr>\n",
              "  </thead>\n",
              "  <tbody>\n",
              "    <tr>\n",
              "      <th>0</th>\n",
              "      <td>[2016, Honda CR-V EX]</td>\n",
              "      <td>Honda of Downtown Chicago</td>\n",
              "      <td>46994.0</td>\n",
              "      <td>4.0</td>\n",
              "      <td>67</td>\n",
              "      <td>22665.0</td>\n",
              "      <td>2016</td>\n",
              "      <td>Honda CR-V EX</td>\n",
              "    </tr>\n",
              "    <tr>\n",
              "      <th>1</th>\n",
              "      <td>[2016, Honda Civic LX]</td>\n",
              "      <td>Honda of Downtown Chicago</td>\n",
              "      <td>49473.0</td>\n",
              "      <td>4.0</td>\n",
              "      <td>67</td>\n",
              "      <td>17137.0</td>\n",
              "      <td>2016</td>\n",
              "      <td>Honda Civic LX</td>\n",
              "    </tr>\n",
              "    <tr>\n",
              "      <th>2</th>\n",
              "      <td>[2018, Honda CR-V EX]</td>\n",
              "      <td>Honda of Downtown Chicago</td>\n",
              "      <td>19944.0</td>\n",
              "      <td>4.0</td>\n",
              "      <td>67</td>\n",
              "      <td>28000.0</td>\n",
              "      <td>2018</td>\n",
              "      <td>Honda CR-V EX</td>\n",
              "    </tr>\n",
              "    <tr>\n",
              "      <th>3</th>\n",
              "      <td>[2018, Honda Odyssey EX-L]</td>\n",
              "      <td>Honda City Chicago</td>\n",
              "      <td>37295.0</td>\n",
              "      <td>4.3</td>\n",
              "      <td>635</td>\n",
              "      <td>33599.0</td>\n",
              "      <td>2018</td>\n",
              "      <td>Honda Odyssey EX-L</td>\n",
              "    </tr>\n",
              "    <tr>\n",
              "      <th>4</th>\n",
              "      <td>[2021, Honda Odyssey EX]</td>\n",
              "      <td>Honda City Chicago</td>\n",
              "      <td>3697.0</td>\n",
              "      <td>4.3</td>\n",
              "      <td>635</td>\n",
              "      <td>35999.0</td>\n",
              "      <td>2021</td>\n",
              "      <td>Honda Odyssey EX</td>\n",
              "    </tr>\n",
              "    <tr>\n",
              "      <th>...</th>\n",
              "      <td>...</td>\n",
              "      <td>...</td>\n",
              "      <td>...</td>\n",
              "      <td>...</td>\n",
              "      <td>...</td>\n",
              "      <td>...</td>\n",
              "      <td>...</td>\n",
              "      <td>...</td>\n",
              "    </tr>\n",
              "    <tr>\n",
              "      <th>195</th>\n",
              "      <td>[2014, Honda Accord EX-L]</td>\n",
              "      <td>Hyundai of Palatine</td>\n",
              "      <td>31555.0</td>\n",
              "      <td>3.7</td>\n",
              "      <td>43</td>\n",
              "      <td>17500.0</td>\n",
              "      <td>2014</td>\n",
              "      <td>Honda Accord EX-L</td>\n",
              "    </tr>\n",
              "    <tr>\n",
              "      <th>196</th>\n",
              "      <td>[2019, Honda Pilot Touring 7-Passenger]</td>\n",
              "      <td>Advantage Acura of Naperville</td>\n",
              "      <td>38039.0</td>\n",
              "      <td>3.8</td>\n",
              "      <td>20</td>\n",
              "      <td>36439.0</td>\n",
              "      <td>2019</td>\n",
              "      <td>Honda Pilot Touring 7-Passenger</td>\n",
              "    </tr>\n",
              "    <tr>\n",
              "      <th>197</th>\n",
              "      <td>[2017, Honda Accord LX]</td>\n",
              "      <td>Advantage Acura of Naperville</td>\n",
              "      <td>82815.0</td>\n",
              "      <td>3.8</td>\n",
              "      <td>20</td>\n",
              "      <td>17900.0</td>\n",
              "      <td>2017</td>\n",
              "      <td>Honda Accord LX</td>\n",
              "    </tr>\n",
              "    <tr>\n",
              "      <th>198</th>\n",
              "      <td>[2019, Honda Civic LX]</td>\n",
              "      <td>Audi Naperville</td>\n",
              "      <td>28090.0</td>\n",
              "      <td>4.7</td>\n",
              "      <td>126</td>\n",
              "      <td>20557.0</td>\n",
              "      <td>2019</td>\n",
              "      <td>Honda Civic LX</td>\n",
              "    </tr>\n",
              "    <tr>\n",
              "      <th>199</th>\n",
              "      <td>[2019, Honda Odyssey EX]</td>\n",
              "      <td>Elgin Chrysler Dodge Jeep Ram</td>\n",
              "      <td>19303.0</td>\n",
              "      <td>4.5</td>\n",
              "      <td>567</td>\n",
              "      <td>32990.0</td>\n",
              "      <td>2019</td>\n",
              "      <td>Honda Odyssey EX</td>\n",
              "    </tr>\n",
              "  </tbody>\n",
              "</table>\n",
              "<p>200 rows × 8 columns</p>\n",
              "</div>"
            ],
            "text/plain": [
              "                                 DESCRIPTION  ...                         CAR_NAME\n",
              "0                      [2016, Honda CR-V EX]  ...                    Honda CR-V EX\n",
              "1                     [2016, Honda Civic LX]  ...                   Honda Civic LX\n",
              "2                      [2018, Honda CR-V EX]  ...                    Honda CR-V EX\n",
              "3                 [2018, Honda Odyssey EX-L]  ...               Honda Odyssey EX-L\n",
              "4                   [2021, Honda Odyssey EX]  ...                 Honda Odyssey EX\n",
              "..                                       ...  ...                              ...\n",
              "195                [2014, Honda Accord EX-L]  ...                Honda Accord EX-L\n",
              "196  [2019, Honda Pilot Touring 7-Passenger]  ...  Honda Pilot Touring 7-Passenger\n",
              "197                  [2017, Honda Accord LX]  ...                  Honda Accord LX\n",
              "198                   [2019, Honda Civic LX]  ...                   Honda Civic LX\n",
              "199                 [2019, Honda Odyssey EX]  ...                 Honda Odyssey EX\n",
              "\n",
              "[200 rows x 8 columns]"
            ]
          },
          "metadata": {},
          "execution_count": 22
        }
      ]
    },
    {
      "cell_type": "code",
      "metadata": {
        "id": "akG5Hw6Jmn6h"
      },
      "source": [
        "df = df.iloc[:, [0,7,6,1,2,3,4,5]] # change order of data frame columns "
      ],
      "execution_count": null,
      "outputs": []
    },
    {
      "cell_type": "code",
      "metadata": {
        "colab": {
          "base_uri": "https://localhost:8080/"
        },
        "id": "rEEelzR6mn6i",
        "outputId": "4eff8bd7-1621-4734-af48-033117de5a84"
      },
      "source": [
        "df.drop('DESCRIPTION',axis='columns', inplace=True)"
      ],
      "execution_count": null,
      "outputs": [
        {
          "output_type": "stream",
          "name": "stderr",
          "text": [
            "/usr/local/lib/python3.7/dist-packages/pandas/core/frame.py:4174: SettingWithCopyWarning: \n",
            "A value is trying to be set on a copy of a slice from a DataFrame\n",
            "\n",
            "See the caveats in the documentation: https://pandas.pydata.org/pandas-docs/stable/user_guide/indexing.html#returning-a-view-versus-a-copy\n",
            "  errors=errors,\n"
          ]
        }
      ]
    },
    {
      "cell_type": "code",
      "metadata": {
        "colab": {
          "base_uri": "https://localhost:8080/",
          "height": 725
        },
        "id": "KKF2RyMXmn6i",
        "outputId": "41375d53-f6c9-4e73-c9ef-64395c3ed8bf"
      },
      "source": [
        "df"
      ],
      "execution_count": null,
      "outputs": [
        {
          "output_type": "execute_result",
          "data": {
            "text/html": [
              "<div>\n",
              "<style scoped>\n",
              "    .dataframe tbody tr th:only-of-type {\n",
              "        vertical-align: middle;\n",
              "    }\n",
              "\n",
              "    .dataframe tbody tr th {\n",
              "        vertical-align: top;\n",
              "    }\n",
              "\n",
              "    .dataframe thead th {\n",
              "        text-align: right;\n",
              "    }\n",
              "</style>\n",
              "<table border=\"1\" class=\"dataframe\">\n",
              "  <thead>\n",
              "    <tr style=\"text-align: right;\">\n",
              "      <th></th>\n",
              "      <th>CAR_NAME</th>\n",
              "      <th>MODEL</th>\n",
              "      <th>DEALER</th>\n",
              "      <th>MILES_DRIVEN</th>\n",
              "      <th>RATE</th>\n",
              "      <th>NO_OF_REVIEWS</th>\n",
              "      <th>PRICE</th>\n",
              "    </tr>\n",
              "  </thead>\n",
              "  <tbody>\n",
              "    <tr>\n",
              "      <th>0</th>\n",
              "      <td>Honda CR-V EX</td>\n",
              "      <td>2016</td>\n",
              "      <td>Honda of Downtown Chicago</td>\n",
              "      <td>46994.0</td>\n",
              "      <td>4.0</td>\n",
              "      <td>67</td>\n",
              "      <td>22665.0</td>\n",
              "    </tr>\n",
              "    <tr>\n",
              "      <th>1</th>\n",
              "      <td>Honda Civic LX</td>\n",
              "      <td>2016</td>\n",
              "      <td>Honda of Downtown Chicago</td>\n",
              "      <td>49473.0</td>\n",
              "      <td>4.0</td>\n",
              "      <td>67</td>\n",
              "      <td>17137.0</td>\n",
              "    </tr>\n",
              "    <tr>\n",
              "      <th>2</th>\n",
              "      <td>Honda CR-V EX</td>\n",
              "      <td>2018</td>\n",
              "      <td>Honda of Downtown Chicago</td>\n",
              "      <td>19944.0</td>\n",
              "      <td>4.0</td>\n",
              "      <td>67</td>\n",
              "      <td>28000.0</td>\n",
              "    </tr>\n",
              "    <tr>\n",
              "      <th>3</th>\n",
              "      <td>Honda Odyssey EX-L</td>\n",
              "      <td>2018</td>\n",
              "      <td>Honda City Chicago</td>\n",
              "      <td>37295.0</td>\n",
              "      <td>4.3</td>\n",
              "      <td>635</td>\n",
              "      <td>33599.0</td>\n",
              "    </tr>\n",
              "    <tr>\n",
              "      <th>4</th>\n",
              "      <td>Honda Odyssey EX</td>\n",
              "      <td>2021</td>\n",
              "      <td>Honda City Chicago</td>\n",
              "      <td>3697.0</td>\n",
              "      <td>4.3</td>\n",
              "      <td>635</td>\n",
              "      <td>35999.0</td>\n",
              "    </tr>\n",
              "    <tr>\n",
              "      <th>...</th>\n",
              "      <td>...</td>\n",
              "      <td>...</td>\n",
              "      <td>...</td>\n",
              "      <td>...</td>\n",
              "      <td>...</td>\n",
              "      <td>...</td>\n",
              "      <td>...</td>\n",
              "    </tr>\n",
              "    <tr>\n",
              "      <th>195</th>\n",
              "      <td>Honda Accord EX-L</td>\n",
              "      <td>2014</td>\n",
              "      <td>Hyundai of Palatine</td>\n",
              "      <td>31555.0</td>\n",
              "      <td>3.7</td>\n",
              "      <td>43</td>\n",
              "      <td>17500.0</td>\n",
              "    </tr>\n",
              "    <tr>\n",
              "      <th>196</th>\n",
              "      <td>Honda Pilot Touring 7-Passenger</td>\n",
              "      <td>2019</td>\n",
              "      <td>Advantage Acura of Naperville</td>\n",
              "      <td>38039.0</td>\n",
              "      <td>3.8</td>\n",
              "      <td>20</td>\n",
              "      <td>36439.0</td>\n",
              "    </tr>\n",
              "    <tr>\n",
              "      <th>197</th>\n",
              "      <td>Honda Accord LX</td>\n",
              "      <td>2017</td>\n",
              "      <td>Advantage Acura of Naperville</td>\n",
              "      <td>82815.0</td>\n",
              "      <td>3.8</td>\n",
              "      <td>20</td>\n",
              "      <td>17900.0</td>\n",
              "    </tr>\n",
              "    <tr>\n",
              "      <th>198</th>\n",
              "      <td>Honda Civic LX</td>\n",
              "      <td>2019</td>\n",
              "      <td>Audi Naperville</td>\n",
              "      <td>28090.0</td>\n",
              "      <td>4.7</td>\n",
              "      <td>126</td>\n",
              "      <td>20557.0</td>\n",
              "    </tr>\n",
              "    <tr>\n",
              "      <th>199</th>\n",
              "      <td>Honda Odyssey EX</td>\n",
              "      <td>2019</td>\n",
              "      <td>Elgin Chrysler Dodge Jeep Ram</td>\n",
              "      <td>19303.0</td>\n",
              "      <td>4.5</td>\n",
              "      <td>567</td>\n",
              "      <td>32990.0</td>\n",
              "    </tr>\n",
              "  </tbody>\n",
              "</table>\n",
              "<p>200 rows × 7 columns</p>\n",
              "</div>"
            ],
            "text/plain": [
              "                            CAR_NAME MODEL  ... NO_OF_REVIEWS    PRICE\n",
              "0                      Honda CR-V EX  2016  ...            67  22665.0\n",
              "1                     Honda Civic LX  2016  ...            67  17137.0\n",
              "2                      Honda CR-V EX  2018  ...            67  28000.0\n",
              "3                 Honda Odyssey EX-L  2018  ...           635  33599.0\n",
              "4                   Honda Odyssey EX  2021  ...           635  35999.0\n",
              "..                               ...   ...  ...           ...      ...\n",
              "195                Honda Accord EX-L  2014  ...            43  17500.0\n",
              "196  Honda Pilot Touring 7-Passenger  2019  ...            20  36439.0\n",
              "197                  Honda Accord LX  2017  ...            20  17900.0\n",
              "198                   Honda Civic LX  2019  ...           126  20557.0\n",
              "199                 Honda Odyssey EX  2019  ...           567  32990.0\n",
              "\n",
              "[200 rows x 7 columns]"
            ]
          },
          "metadata": {},
          "execution_count": 25
        }
      ]
    },
    {
      "cell_type": "code",
      "metadata": {
        "colab": {
          "base_uri": "https://localhost:8080/",
          "height": 297
        },
        "id": "Y-i8SeWRrzgq",
        "outputId": "f4119eab-e123-49de-e45e-52278738eb0c"
      },
      "source": [
        "df.describe()"
      ],
      "execution_count": null,
      "outputs": [
        {
          "output_type": "execute_result",
          "data": {
            "text/html": [
              "<div>\n",
              "<style scoped>\n",
              "    .dataframe tbody tr th:only-of-type {\n",
              "        vertical-align: middle;\n",
              "    }\n",
              "\n",
              "    .dataframe tbody tr th {\n",
              "        vertical-align: top;\n",
              "    }\n",
              "\n",
              "    .dataframe thead th {\n",
              "        text-align: right;\n",
              "    }\n",
              "</style>\n",
              "<table border=\"1\" class=\"dataframe\">\n",
              "  <thead>\n",
              "    <tr style=\"text-align: right;\">\n",
              "      <th></th>\n",
              "      <th>MILES_DRIVEN</th>\n",
              "      <th>RATE</th>\n",
              "      <th>NO_OF_REVIEWS</th>\n",
              "      <th>PRICE</th>\n",
              "    </tr>\n",
              "  </thead>\n",
              "  <tbody>\n",
              "    <tr>\n",
              "      <th>count</th>\n",
              "      <td>200.000000</td>\n",
              "      <td>200.00000</td>\n",
              "      <td>200.000000</td>\n",
              "      <td>200.000000</td>\n",
              "    </tr>\n",
              "    <tr>\n",
              "      <th>mean</th>\n",
              "      <td>42309.540000</td>\n",
              "      <td>4.35300</td>\n",
              "      <td>883.870000</td>\n",
              "      <td>25887.075000</td>\n",
              "    </tr>\n",
              "    <tr>\n",
              "      <th>std</th>\n",
              "      <td>28158.741629</td>\n",
              "      <td>0.57274</td>\n",
              "      <td>1211.290422</td>\n",
              "      <td>7875.915032</td>\n",
              "    </tr>\n",
              "    <tr>\n",
              "      <th>min</th>\n",
              "      <td>2565.000000</td>\n",
              "      <td>2.60000</td>\n",
              "      <td>1.000000</td>\n",
              "      <td>4899.000000</td>\n",
              "    </tr>\n",
              "    <tr>\n",
              "      <th>25%</th>\n",
              "      <td>21886.000000</td>\n",
              "      <td>4.07500</td>\n",
              "      <td>72.500000</td>\n",
              "      <td>20705.500000</td>\n",
              "    </tr>\n",
              "    <tr>\n",
              "      <th>50%</th>\n",
              "      <td>34667.000000</td>\n",
              "      <td>4.60000</td>\n",
              "      <td>385.000000</td>\n",
              "      <td>25650.000000</td>\n",
              "    </tr>\n",
              "    <tr>\n",
              "      <th>75%</th>\n",
              "      <td>51846.500000</td>\n",
              "      <td>4.70000</td>\n",
              "      <td>1094.000000</td>\n",
              "      <td>32587.500000</td>\n",
              "    </tr>\n",
              "    <tr>\n",
              "      <th>max</th>\n",
              "      <td>144811.000000</td>\n",
              "      <td>5.00000</td>\n",
              "      <td>7958.000000</td>\n",
              "      <td>43535.000000</td>\n",
              "    </tr>\n",
              "  </tbody>\n",
              "</table>\n",
              "</div>"
            ],
            "text/plain": [
              "        MILES_DRIVEN       RATE  NO_OF_REVIEWS         PRICE\n",
              "count     200.000000  200.00000     200.000000    200.000000\n",
              "mean    42309.540000    4.35300     883.870000  25887.075000\n",
              "std     28158.741629    0.57274    1211.290422   7875.915032\n",
              "min      2565.000000    2.60000       1.000000   4899.000000\n",
              "25%     21886.000000    4.07500      72.500000  20705.500000\n",
              "50%     34667.000000    4.60000     385.000000  25650.000000\n",
              "75%     51846.500000    4.70000    1094.000000  32587.500000\n",
              "max    144811.000000    5.00000    7958.000000  43535.000000"
            ]
          },
          "metadata": {},
          "execution_count": 26
        }
      ]
    },
    {
      "cell_type": "code",
      "metadata": {
        "colab": {
          "base_uri": "https://localhost:8080/"
        },
        "id": "sa46cl45r58s",
        "outputId": "b909b8f8-3a77-49b7-e2d1-aa3391299f92"
      },
      "source": [
        "df.info()"
      ],
      "execution_count": null,
      "outputs": [
        {
          "output_type": "stream",
          "name": "stdout",
          "text": [
            "<class 'pandas.core.frame.DataFrame'>\n",
            "RangeIndex: 200 entries, 0 to 199\n",
            "Data columns (total 7 columns):\n",
            " #   Column         Non-Null Count  Dtype  \n",
            "---  ------         --------------  -----  \n",
            " 0   CAR_NAME       200 non-null    object \n",
            " 1   MODEL          200 non-null    object \n",
            " 2   DEALER         200 non-null    object \n",
            " 3   MILES_DRIVEN   200 non-null    float64\n",
            " 4   RATE           200 non-null    float64\n",
            " 5   NO_OF_REVIEWS  200 non-null    int64  \n",
            " 6   PRICE          200 non-null    float64\n",
            "dtypes: float64(3), int64(1), object(3)\n",
            "memory usage: 11.1+ KB\n"
          ]
        }
      ]
    },
    {
      "cell_type": "markdown",
      "metadata": {
        "id": "ok7uzNA5SgG7"
      },
      "source": [
        "Missing values:"
      ]
    },
    {
      "cell_type": "code",
      "metadata": {
        "colab": {
          "base_uri": "https://localhost:8080/"
        },
        "id": "SKx7hNkUq-nq",
        "outputId": "d8c028c1-5f90-4bd3-c963-cfa2d73520f1"
      },
      "source": [
        "df.isnull().sum()"
      ],
      "execution_count": null,
      "outputs": [
        {
          "output_type": "execute_result",
          "data": {
            "text/plain": [
              "CAR_NAME         0\n",
              "MODEL            0\n",
              "DEALER           0\n",
              "MILES_DRIVEN     0\n",
              "RATE             0\n",
              "NO_OF_REVIEWS    0\n",
              "PRICE            0\n",
              "dtype: int64"
            ]
          },
          "metadata": {},
          "execution_count": 28
        }
      ]
    },
    {
      "cell_type": "markdown",
      "metadata": {
        "id": "jZ5RYElXSnnz"
      },
      "source": [
        "Duplicate:"
      ]
    },
    {
      "cell_type": "code",
      "metadata": {
        "colab": {
          "base_uri": "https://localhost:8080/"
        },
        "id": "kll001M6rGHl",
        "outputId": "0190a443-647c-4e0e-d298-be1210227231"
      },
      "source": [
        "df.duplicated().sum()"
      ],
      "execution_count": null,
      "outputs": [
        {
          "output_type": "execute_result",
          "data": {
            "text/plain": [
              "0"
            ]
          },
          "metadata": {},
          "execution_count": 29
        }
      ]
    },
    {
      "cell_type": "markdown",
      "metadata": {
        "id": "GoLjs96dKl7h"
      },
      "source": [
        "Convert the DataType of the MODEL from object into numeric"
      ]
    },
    {
      "cell_type": "code",
      "metadata": {
        "colab": {
          "base_uri": "https://localhost:8080/"
        },
        "id": "QVOMkoInsApl",
        "outputId": "9d6e6967-89de-4d73-a3bf-6d7ced0f8a91"
      },
      "source": [
        "df[\"MODEL\"] = pd.to_numeric(df[\"MODEL\"])"
      ],
      "execution_count": null,
      "outputs": [
        {
          "output_type": "stream",
          "name": "stderr",
          "text": [
            "/usr/local/lib/python3.7/dist-packages/ipykernel_launcher.py:1: SettingWithCopyWarning: \n",
            "A value is trying to be set on a copy of a slice from a DataFrame.\n",
            "Try using .loc[row_indexer,col_indexer] = value instead\n",
            "\n",
            "See the caveats in the documentation: https://pandas.pydata.org/pandas-docs/stable/user_guide/indexing.html#returning-a-view-versus-a-copy\n",
            "  \"\"\"Entry point for launching an IPython kernel.\n"
          ]
        }
      ]
    },
    {
      "cell_type": "markdown",
      "metadata": {
        "id": "_lSAZGpLLKse"
      },
      "source": [
        "Verify the process of converting the data type of the MODEL column"
      ]
    },
    {
      "cell_type": "code",
      "metadata": {
        "colab": {
          "base_uri": "https://localhost:8080/"
        },
        "id": "M1_yvwS2sbqw",
        "outputId": "e2aefb5d-2939-4fe2-f5e8-f3bdffb335b6"
      },
      "source": [
        "df.info()"
      ],
      "execution_count": null,
      "outputs": [
        {
          "output_type": "stream",
          "name": "stdout",
          "text": [
            "<class 'pandas.core.frame.DataFrame'>\n",
            "RangeIndex: 200 entries, 0 to 199\n",
            "Data columns (total 7 columns):\n",
            " #   Column         Non-Null Count  Dtype  \n",
            "---  ------         --------------  -----  \n",
            " 0   CAR_NAME       200 non-null    object \n",
            " 1   MODEL          200 non-null    int64  \n",
            " 2   DEALER         200 non-null    object \n",
            " 3   MILES_DRIVEN   200 non-null    float64\n",
            " 4   RATE           200 non-null    float64\n",
            " 5   NO_OF_REVIEWS  200 non-null    int64  \n",
            " 6   PRICE          200 non-null    float64\n",
            "dtypes: float64(3), int64(2), object(2)\n",
            "memory usage: 11.1+ KB\n"
          ]
        }
      ]
    },
    {
      "cell_type": "code",
      "metadata": {
        "colab": {
          "base_uri": "https://localhost:8080/",
          "height": 725
        },
        "id": "Yxfk8yPO2YiW",
        "outputId": "caf743fa-3b9c-4cd8-f216-9f4a1a39f4e7"
      },
      "source": [
        "df "
      ],
      "execution_count": null,
      "outputs": [
        {
          "output_type": "execute_result",
          "data": {
            "text/html": [
              "<div>\n",
              "<style scoped>\n",
              "    .dataframe tbody tr th:only-of-type {\n",
              "        vertical-align: middle;\n",
              "    }\n",
              "\n",
              "    .dataframe tbody tr th {\n",
              "        vertical-align: top;\n",
              "    }\n",
              "\n",
              "    .dataframe thead th {\n",
              "        text-align: right;\n",
              "    }\n",
              "</style>\n",
              "<table border=\"1\" class=\"dataframe\">\n",
              "  <thead>\n",
              "    <tr style=\"text-align: right;\">\n",
              "      <th></th>\n",
              "      <th>CAR_NAME</th>\n",
              "      <th>MODEL</th>\n",
              "      <th>DEALER</th>\n",
              "      <th>MILES_DRIVEN</th>\n",
              "      <th>RATE</th>\n",
              "      <th>NO_OF_REVIEWS</th>\n",
              "      <th>PRICE</th>\n",
              "    </tr>\n",
              "  </thead>\n",
              "  <tbody>\n",
              "    <tr>\n",
              "      <th>0</th>\n",
              "      <td>Honda CR-V EX</td>\n",
              "      <td>2016</td>\n",
              "      <td>Honda of Downtown Chicago</td>\n",
              "      <td>46994.0</td>\n",
              "      <td>4.0</td>\n",
              "      <td>67</td>\n",
              "      <td>22665.0</td>\n",
              "    </tr>\n",
              "    <tr>\n",
              "      <th>1</th>\n",
              "      <td>Honda Civic LX</td>\n",
              "      <td>2016</td>\n",
              "      <td>Honda of Downtown Chicago</td>\n",
              "      <td>49473.0</td>\n",
              "      <td>4.0</td>\n",
              "      <td>67</td>\n",
              "      <td>17137.0</td>\n",
              "    </tr>\n",
              "    <tr>\n",
              "      <th>2</th>\n",
              "      <td>Honda CR-V EX</td>\n",
              "      <td>2018</td>\n",
              "      <td>Honda of Downtown Chicago</td>\n",
              "      <td>19944.0</td>\n",
              "      <td>4.0</td>\n",
              "      <td>67</td>\n",
              "      <td>28000.0</td>\n",
              "    </tr>\n",
              "    <tr>\n",
              "      <th>3</th>\n",
              "      <td>Honda Odyssey EX-L</td>\n",
              "      <td>2018</td>\n",
              "      <td>Honda City Chicago</td>\n",
              "      <td>37295.0</td>\n",
              "      <td>4.3</td>\n",
              "      <td>635</td>\n",
              "      <td>33599.0</td>\n",
              "    </tr>\n",
              "    <tr>\n",
              "      <th>4</th>\n",
              "      <td>Honda Odyssey EX</td>\n",
              "      <td>2021</td>\n",
              "      <td>Honda City Chicago</td>\n",
              "      <td>3697.0</td>\n",
              "      <td>4.3</td>\n",
              "      <td>635</td>\n",
              "      <td>35999.0</td>\n",
              "    </tr>\n",
              "    <tr>\n",
              "      <th>...</th>\n",
              "      <td>...</td>\n",
              "      <td>...</td>\n",
              "      <td>...</td>\n",
              "      <td>...</td>\n",
              "      <td>...</td>\n",
              "      <td>...</td>\n",
              "      <td>...</td>\n",
              "    </tr>\n",
              "    <tr>\n",
              "      <th>195</th>\n",
              "      <td>Honda Accord EX-L</td>\n",
              "      <td>2014</td>\n",
              "      <td>Hyundai of Palatine</td>\n",
              "      <td>31555.0</td>\n",
              "      <td>3.7</td>\n",
              "      <td>43</td>\n",
              "      <td>17500.0</td>\n",
              "    </tr>\n",
              "    <tr>\n",
              "      <th>196</th>\n",
              "      <td>Honda Pilot Touring 7-Passenger</td>\n",
              "      <td>2019</td>\n",
              "      <td>Advantage Acura of Naperville</td>\n",
              "      <td>38039.0</td>\n",
              "      <td>3.8</td>\n",
              "      <td>20</td>\n",
              "      <td>36439.0</td>\n",
              "    </tr>\n",
              "    <tr>\n",
              "      <th>197</th>\n",
              "      <td>Honda Accord LX</td>\n",
              "      <td>2017</td>\n",
              "      <td>Advantage Acura of Naperville</td>\n",
              "      <td>82815.0</td>\n",
              "      <td>3.8</td>\n",
              "      <td>20</td>\n",
              "      <td>17900.0</td>\n",
              "    </tr>\n",
              "    <tr>\n",
              "      <th>198</th>\n",
              "      <td>Honda Civic LX</td>\n",
              "      <td>2019</td>\n",
              "      <td>Audi Naperville</td>\n",
              "      <td>28090.0</td>\n",
              "      <td>4.7</td>\n",
              "      <td>126</td>\n",
              "      <td>20557.0</td>\n",
              "    </tr>\n",
              "    <tr>\n",
              "      <th>199</th>\n",
              "      <td>Honda Odyssey EX</td>\n",
              "      <td>2019</td>\n",
              "      <td>Elgin Chrysler Dodge Jeep Ram</td>\n",
              "      <td>19303.0</td>\n",
              "      <td>4.5</td>\n",
              "      <td>567</td>\n",
              "      <td>32990.0</td>\n",
              "    </tr>\n",
              "  </tbody>\n",
              "</table>\n",
              "<p>200 rows × 7 columns</p>\n",
              "</div>"
            ],
            "text/plain": [
              "                            CAR_NAME  MODEL  ... NO_OF_REVIEWS    PRICE\n",
              "0                      Honda CR-V EX   2016  ...            67  22665.0\n",
              "1                     Honda Civic LX   2016  ...            67  17137.0\n",
              "2                      Honda CR-V EX   2018  ...            67  28000.0\n",
              "3                 Honda Odyssey EX-L   2018  ...           635  33599.0\n",
              "4                   Honda Odyssey EX   2021  ...           635  35999.0\n",
              "..                               ...    ...  ...           ...      ...\n",
              "195                Honda Accord EX-L   2014  ...            43  17500.0\n",
              "196  Honda Pilot Touring 7-Passenger   2019  ...            20  36439.0\n",
              "197                  Honda Accord LX   2017  ...            20  17900.0\n",
              "198                   Honda Civic LX   2019  ...           126  20557.0\n",
              "199                 Honda Odyssey EX   2019  ...           567  32990.0\n",
              "\n",
              "[200 rows x 7 columns]"
            ]
          },
          "metadata": {},
          "execution_count": 32
        }
      ]
    },
    {
      "cell_type": "markdown",
      "metadata": {
        "id": "mFajuZBqO1dS"
      },
      "source": [
        "**Visualize data**"
      ]
    },
    {
      "cell_type": "markdown",
      "metadata": {
        "id": "RZDA3xYZM62u"
      },
      "source": [
        "The first plot is a histogram plot to show the Count Of Cars By Price, and the second plot is a distplot that represent the Density or Relative Frequency Of Cars By Price."
      ]
    },
    {
      "cell_type": "code",
      "metadata": {
        "colab": {
          "base_uri": "https://localhost:8080/",
          "height": 330
        },
        "id": "-9W059XK4dea",
        "outputId": "da2862d6-e26c-479d-8538-0429886b11e8"
      },
      "source": [
        "fig, ax= plt.subplots(1,2,figsize=(15,5))\n",
        "\n",
        "sns.distplot(df['PRICE'], norm_hist=False, kde=False, ax=ax[0], color='#255075') #'#3470A3', '#79ABC9'\n",
        "ax[0].set_xlabel('Car Price')\n",
        "ax[0].set_ylabel('Count of cars',size=12)\n",
        "ax[0].set_title('Count Of Cars By Price \\n',size=16,weight=\"bold\")\n",
        "\n",
        "sns.distplot(df['PRICE'], kde=True, ax=ax[1], color= '#3470A3')\n",
        "ax[1].set_xlabel('Car Price')\n",
        "ax[1].set_ylabel('Relative Frequency of cars',size=12)\n",
        "ax[1].set_title('Density or Relative Frequency Of Cars By Price \\n',size=16,weight=\"bold\")"
      ],
      "execution_count": null,
      "outputs": [
        {
          "output_type": "stream",
          "name": "stderr",
          "text": [
            "/usr/local/lib/python3.7/dist-packages/seaborn/distributions.py:2619: FutureWarning: `distplot` is a deprecated function and will be removed in a future version. Please adapt your code to use either `displot` (a figure-level function with similar flexibility) or `histplot` (an axes-level function for histograms).\n",
            "  warnings.warn(msg, FutureWarning)\n"
          ]
        },
        {
          "output_type": "execute_result",
          "data": {
            "text/plain": [
              "Text(0.5, 1.0, 'Density or Relative Frequency Of Cars By Price \\n')"
            ]
          },
          "metadata": {},
          "execution_count": 33
        },
        {
          "output_type": "display_data",
          "data": {
            "image/png": "[encoded data removed]",
            "text/plain": [
              "<Figure size 1080x360 with 2 Axes>"
            ]
          },
          "metadata": {
            "needs_background": "light"
          }
        }
      ]
    },
    {
      "cell_type": "markdown",
      "metadata": {
        "id": "2ieY74QuPfmY"
      },
      "source": [
        "**Using pairplot to shows the relationship for (n, 2) combination of features in a DataFrame.**"
      ]
    },
    {
      "cell_type": "code",
      "metadata": {
        "colab": {
          "base_uri": "https://localhost:8080/",
          "height": 680
        },
        "id": "T9FWBRmG6nGC",
        "outputId": "646ee6d0-2454-4aff-c641-ab0e0531273f"
      },
      "source": [
        "cars_numeric=df.select_dtypes(include=['float64','int64']) # creating df with numeric features only\n",
        "plt.figure(figsize=(20, 10)) # size of the figure\n",
        "sns.pairplot(cars_numeric) "
      ],
      "execution_count": null,
      "outputs": [
        {
          "output_type": "execute_result",
          "data": {
            "text/plain": [
              "<seaborn.axisgrid.PairGrid at 0x7fe7ca15ce10>"
            ]
          },
          "metadata": {},
          "execution_count": 34
        },
        {
          "output_type": "display_data",
          "data": {
            "text/plain": [
              "<Figure size 1440x720 with 0 Axes>"
            ]
          },
          "metadata": {}
        },
        {
          "output_type": "display_data",
          "data": {
            "image/png": "[encoded data removed]",
            "text/plain": [
              "<Figure size 900x900 with 30 Axes>"
            ]
          },
          "metadata": {
            "needs_background": "light"
          }
        }
      ]
    },
    {
      "cell_type": "markdown",
      "metadata": {
        "id": "g2khNVeCRiYm"
      },
      "source": [
        "Before we begin modeling, use the `corr()` function to get a feel for the correlations among the different variables, especially with regard to 'price'."
      ]
    },
    {
      "cell_type": "code",
      "metadata": {
        "colab": {
          "base_uri": "https://localhost:8080/"
        },
        "id": "jNzrJ8cgsctd",
        "outputId": "2569c1af-a04c-414b-ee15-f4e07240503e"
      },
      "source": [
        "df.corr()['PRICE'].sort_values(ascending=False)"
      ],
      "execution_count": null,
      "outputs": [
        {
          "output_type": "execute_result",
          "data": {
            "text/plain": [
              "PRICE            1.000000\n",
              "MODEL            0.770530\n",
              "NO_OF_REVIEWS    0.176931\n",
              "RATE             0.002358\n",
              "MILES_DRIVEN    -0.594880\n",
              "Name: PRICE, dtype: float64"
            ]
          },
          "metadata": {},
          "execution_count": 35
        }
      ]
    },
    {
      "cell_type": "code",
      "metadata": {
        "colab": {
          "base_uri": "https://localhost:8080/",
          "height": 462
        },
        "id": "lVGwvHxlSWM7",
        "outputId": "0b74191a-012b-4339-f7c4-0d517d74aee9"
      },
      "source": [
        "corr=df.corr()\n",
        "\n",
        "plt.figure(figsize=(15,8))\n",
        "plt.title(\"Heat map for Correlation matrix\", fontname=\"Times New Roman\", size=28, fontweight=\"bold\")\n",
        "sns.heatmap(corr,annot=True,cmap=\"YlGnBu\")"
      ],
      "execution_count": null,
      "outputs": [
        {
          "output_type": "stream",
          "name": "stderr",
          "text": [
            "findfont: Font family ['Times New Roman'] not found. Falling back to DejaVu Sans.\n"
          ]
        },
        {
          "output_type": "execute_result",
          "data": {
            "text/plain": [
              "<matplotlib.axes._subplots.AxesSubplot at 0x7fe7c098ac90>"
            ]
          },
          "metadata": {},
          "execution_count": 36
        },
        {
          "output_type": "display_data",
          "data": {
            "image/png": "[encoded data removed]",
            "text/plain": [
              "<Figure size 1080x576 with 2 Axes>"
            ]
          },
          "metadata": {
            "needs_background": "light"
          }
        }
      ]
    },
    {
      "cell_type": "markdown",
      "metadata": {
        "id": "7RGOjgkNWpPX"
      },
      "source": [
        "check if there outliers"
      ]
    },
    {
      "cell_type": "markdown",
      "metadata": {
        "id": "47m_5MOkWsX2"
      },
      "source": [
        "Box Plot to detect the outliers in each feature"
      ]
    },
    {
      "cell_type": "code",
      "metadata": {
        "colab": {
          "base_uri": "https://localhost:8080/",
          "height": 281
        },
        "id": "wwUq8irnWcFg",
        "jupyter": {
          "source_hidden": true
        },
        "outputId": "287c188b-d5d2-42c7-cb4e-a1ddb90dbd05"
      },
      "source": [
        "plt.boxplot(df[\"MODEL\"])\n",
        "plt.title(\"Box plot to detect the outliers in MODEL\")\n",
        "plt.show()"
      ],
      "execution_count": null,
      "outputs": [
        {
          "output_type": "display_data",
          "data": {
            "image/png": "[encoded data removed]",
            "text/plain": [
              "<Figure size 432x288 with 1 Axes>"
            ]
          },
          "metadata": {
            "needs_background": "light"
          }
        }
      ]
    },
    {
      "cell_type": "code",
      "metadata": {
        "colab": {
          "base_uri": "https://localhost:8080/",
          "height": 281
        },
        "id": "s_kuVsjUWnI7",
        "outputId": "662471d1-163e-4f77-f899-58b2229db165"
      },
      "source": [
        "plt.boxplot(df[\"MILES_DRIVEN\"])\n",
        "plt.title(\"Box plot to detect the outliers in MILES_DRIVEN\")\n",
        "plt.show()"
      ],
      "execution_count": null,
      "outputs": [
        {
          "output_type": "display_data",
          "data": {
            "image/png": "[encoded data removed]",
            "text/plain": [
              "<Figure size 432x288 with 1 Axes>"
            ]
          },
          "metadata": {
            "needs_background": "light"
          }
        }
      ]
    },
    {
      "cell_type": "code",
      "metadata": {
        "colab": {
          "base_uri": "https://localhost:8080/",
          "height": 281
        },
        "id": "gN86SWCZW6PT",
        "outputId": "a5bb8289-8c83-4a17-aa93-ecec0c43bdfd"
      },
      "source": [
        "plt.boxplot(df[\"RATE\"])\n",
        "plt.title(\"Box plot to detect the outliers in RATE\")\n",
        "plt.show()"
      ],
      "execution_count": null,
      "outputs": [
        {
          "output_type": "display_data",
          "data": {
            "image/png": "[encoded data removed]",
            "text/plain": [
              "<Figure size 432x288 with 1 Axes>"
            ]
          },
          "metadata": {
            "needs_background": "light"
          }
        }
      ]
    },
    {
      "cell_type": "code",
      "metadata": {
        "colab": {
          "base_uri": "https://localhost:8080/",
          "height": 281
        },
        "id": "wRRtUQiMW__a",
        "outputId": "ab916fd9-0c45-47ff-ddf2-00ee51f620f8"
      },
      "source": [
        "plt.boxplot(df[\"NO_OF_REVIEWS\"])\n",
        "plt.title(\"Box plot to detect the outliers in NO_OF_REVIEWS\")\n",
        "plt.show()"
      ],
      "execution_count": null,
      "outputs": [
        {
          "output_type": "display_data",
          "data": {
            "image/png": "[encoded data removed]",
            "text/plain": [
              "<Figure size 432x288 with 1 Axes>"
            ]
          },
          "metadata": {
            "needs_background": "light"
          }
        }
      ]
    },
    {
      "cell_type": "code",
      "metadata": {
        "colab": {
          "base_uri": "https://localhost:8080/",
          "height": 281
        },
        "id": "XtDxCOsfXF34",
        "outputId": "aafe4b23-1693-404f-c6d5-a9a676137cd6"
      },
      "source": [
        "plt.boxplot(df[\"PRICE\"])\n",
        "plt.title(\"Box plot to detect the outliers in PRICE\")\n",
        "plt.show()"
      ],
      "execution_count": null,
      "outputs": [
        {
          "output_type": "display_data",
          "data": {
            "image/png": "[encoded data removed]",
            "text/plain": [
              "<Figure size 432x288 with 1 Axes>"
            ]
          },
          "metadata": {
            "needs_background": "light"
          }
        }
      ]
    },
    {
      "cell_type": "markdown",
      "metadata": {
        "id": "1N3361bJT55d"
      },
      "source": [
        "# **Feature engineering**"
      ]
    },
    {
      "cell_type": "markdown",
      "metadata": {
        "id": "iSSBNpd7UFJG"
      },
      "source": [
        "Creating dummy variables for categorical variables"
      ]
    },
    {
      "cell_type": "code",
      "metadata": {
        "colab": {
          "base_uri": "https://localhost:8080/"
        },
        "id": "b7w8F79_Ui4o",
        "outputId": "265ddf88-2235-405f-b331-48154decb487"
      },
      "source": [
        "dealer_counts = df.DEALER.value_counts() # drop this coulmn because it contains about 96 feature which is a looooooot \n",
        "dealer_counts\n"
      ],
      "execution_count": null,
      "outputs": [
        {
          "output_type": "execute_result",
          "data": {
            "text/plain": [
              "Schaumburg Honda Automobiles           11\n",
              "Continental Honda                      11\n",
              "Honda of Lisle                          9\n",
              "North City Honda                        9\n",
              "Honda City Chicago                      8\n",
              "                                       ..\n",
              "Star Motor Sales                        1\n",
              "Napleton Lincoln of Glenview            1\n",
              "City Volkswagen of Chicago              1\n",
              "The Autobarn Volvo Cars of Oak Park     1\n",
              "Jaguar Land Rover Hinsdale              1\n",
              "Name: DEALER, Length: 95, dtype: int64"
            ]
          },
          "metadata": {},
          "execution_count": 42
        }
      ]
    },
    {
      "cell_type": "code",
      "metadata": {
        "id": "7VjrrN0gVETA"
      },
      "source": [
        "df=df.drop(columns=['DEALER'])"
      ],
      "execution_count": null,
      "outputs": []
    },
    {
      "cell_type": "code",
      "metadata": {
        "colab": {
          "base_uri": "https://localhost:8080/"
        },
        "id": "Jf4vI2qPXfDP",
        "outputId": "2164ed98-8042-4f4b-c310-ec7c6709d759"
      },
      "source": [
        "name_counts = df.CAR_NAME.value_counts() # convert to dummies for features contain 12 variables and more and the others is renamed to others thus will have about 8 features + 6 features and a total of 14 feature \n",
        "name_counts"
      ],
      "execution_count": null,
      "outputs": [
        {
          "output_type": "execute_result",
          "data": {
            "text/plain": [
              "Honda Odyssey EX-L                      22\n",
              "Honda Accord EX-L                       20\n",
              "Honda CR-V EX                           17\n",
              "Honda Civic EX                          12\n",
              "Honda CR-V LX                           11\n",
              "Honda Civic LX                          11\n",
              "Honda CR-V EX-L                          9\n",
              "Honda Pilot EX-L                         9\n",
              "Honda Accord Sport                       8\n",
              "Honda Pilot Touring 7-Passenger          6\n",
              "Honda Accord LX                          6\n",
              "Honda CR-V Touring                       6\n",
              "Honda Pilot EX                           5\n",
              "Honda HR-V EX                            4\n",
              "Honda Odyssey EX                         4\n",
              "Honda HR-V LX                            4\n",
              "Honda Civic Sport                        4\n",
              "Honda Ridgeline RTL-E                    3\n",
              "Honda Pilot Touring                      3\n",
              "Honda Odyssey SE                         3\n",
              "Honda Accord Touring                     3\n",
              "Honda Civic Si Base                      2\n",
              "Honda Pilot Elite                        2\n",
              "Honda Civic Touring                      2\n",
              "Honda Clarity Plug-In Hybrid Touring     2\n",
              "Honda Civic Type R Touring               2\n",
              "Honda Accord Sport 2.0T                  2\n",
              "Honda Civic EX-T                         1\n",
              "Honda Element EX                         1\n",
              "Honda Ridgeline RTL-T                    1\n",
              "Honda CR-V EX-L w/Navigation             1\n",
              "Honda Accord Hybrid Base                 1\n",
              "Honda Ridgeline Sport                    1\n",
              "Honda Ridgeline Black Edition            1\n",
              "Honda Civic EX-L                         1\n",
              "Honda Accord                             1\n",
              "Honda Element LX                         1\n",
              "Honda Odyssey Elite                      1\n",
              "Honda Fit Base                           1\n",
              "Honda Passport EX-L                      1\n",
              "Honda Accord EX                          1\n",
              "Honda Civic Si                           1\n",
              "Honda Fit                                1\n",
              "Honda CR-V Hybrid EX                     1\n",
              "Honda Civic LX-P                         1\n",
              "Name: CAR_NAME, dtype: int64"
            ]
          },
          "metadata": {},
          "execution_count": 44
        }
      ]
    },
    {
      "cell_type": "code",
      "metadata": {
        "id": "ve1ldLTRVXs8"
      },
      "source": [
        "#other_dealer = list(dealer_counts[dealer_counts < 3].index) # \"return the indcies for the DEALER counts less than 3\"\n",
        "#df['DEALER'] = df['DEALER'].replace(other_dealer, 'Other') # \"replace the DEALER categories having count less than 3\"\n",
        "\n",
        "\n",
        "other_name = list(name_counts[name_counts < 12].index) # \"return the indcies for the DEALER counts less than 3\"\n",
        "df['CAR_NAME'] = df['CAR_NAME'].replace(other_name, 'Other')\n",
        "\n",
        "\n",
        "df= pd.get_dummies(df, drop_first=True)"
      ],
      "execution_count": null,
      "outputs": []
    },
    {
      "cell_type": "code",
      "metadata": {
        "colab": {
          "base_uri": "https://localhost:8080/",
          "height": 456
        },
        "id": "leO_mBBMTfyI",
        "outputId": "51230d64-9ea3-48e7-d014-975e7f5a73b7"
      },
      "source": [
        "df"
      ],
      "execution_count": null,
      "outputs": [
        {
          "output_type": "execute_result",
          "data": {
            "text/html": [
              "<div>\n",
              "<style scoped>\n",
              "    .dataframe tbody tr th:only-of-type {\n",
              "        vertical-align: middle;\n",
              "    }\n",
              "\n",
              "    .dataframe tbody tr th {\n",
              "        vertical-align: top;\n",
              "    }\n",
              "\n",
              "    .dataframe thead th {\n",
              "        text-align: right;\n",
              "    }\n",
              "</style>\n",
              "<table border=\"1\" class=\"dataframe\">\n",
              "  <thead>\n",
              "    <tr style=\"text-align: right;\">\n",
              "      <th></th>\n",
              "      <th>MODEL</th>\n",
              "      <th>MILES_DRIVEN</th>\n",
              "      <th>RATE</th>\n",
              "      <th>NO_OF_REVIEWS</th>\n",
              "      <th>PRICE</th>\n",
              "      <th>CAR_NAME_Honda CR-V EX</th>\n",
              "      <th>CAR_NAME_Honda Civic EX</th>\n",
              "      <th>CAR_NAME_Honda Odyssey EX-L</th>\n",
              "      <th>CAR_NAME_Other</th>\n",
              "    </tr>\n",
              "  </thead>\n",
              "  <tbody>\n",
              "    <tr>\n",
              "      <th>0</th>\n",
              "      <td>2016</td>\n",
              "      <td>46994.0</td>\n",
              "      <td>4.0</td>\n",
              "      <td>67</td>\n",
              "      <td>22665.0</td>\n",
              "      <td>1</td>\n",
              "      <td>0</td>\n",
              "      <td>0</td>\n",
              "      <td>0</td>\n",
              "    </tr>\n",
              "    <tr>\n",
              "      <th>1</th>\n",
              "      <td>2016</td>\n",
              "      <td>49473.0</td>\n",
              "      <td>4.0</td>\n",
              "      <td>67</td>\n",
              "      <td>17137.0</td>\n",
              "      <td>0</td>\n",
              "      <td>0</td>\n",
              "      <td>0</td>\n",
              "      <td>1</td>\n",
              "    </tr>\n",
              "    <tr>\n",
              "      <th>2</th>\n",
              "      <td>2018</td>\n",
              "      <td>19944.0</td>\n",
              "      <td>4.0</td>\n",
              "      <td>67</td>\n",
              "      <td>28000.0</td>\n",
              "      <td>1</td>\n",
              "      <td>0</td>\n",
              "      <td>0</td>\n",
              "      <td>0</td>\n",
              "    </tr>\n",
              "    <tr>\n",
              "      <th>3</th>\n",
              "      <td>2018</td>\n",
              "      <td>37295.0</td>\n",
              "      <td>4.3</td>\n",
              "      <td>635</td>\n",
              "      <td>33599.0</td>\n",
              "      <td>0</td>\n",
              "      <td>0</td>\n",
              "      <td>1</td>\n",
              "      <td>0</td>\n",
              "    </tr>\n",
              "    <tr>\n",
              "      <th>4</th>\n",
              "      <td>2021</td>\n",
              "      <td>3697.0</td>\n",
              "      <td>4.3</td>\n",
              "      <td>635</td>\n",
              "      <td>35999.0</td>\n",
              "      <td>0</td>\n",
              "      <td>0</td>\n",
              "      <td>0</td>\n",
              "      <td>1</td>\n",
              "    </tr>\n",
              "    <tr>\n",
              "      <th>...</th>\n",
              "      <td>...</td>\n",
              "      <td>...</td>\n",
              "      <td>...</td>\n",
              "      <td>...</td>\n",
              "      <td>...</td>\n",
              "      <td>...</td>\n",
              "      <td>...</td>\n",
              "      <td>...</td>\n",
              "      <td>...</td>\n",
              "    </tr>\n",
              "    <tr>\n",
              "      <th>195</th>\n",
              "      <td>2014</td>\n",
              "      <td>31555.0</td>\n",
              "      <td>3.7</td>\n",
              "      <td>43</td>\n",
              "      <td>17500.0</td>\n",
              "      <td>0</td>\n",
              "      <td>0</td>\n",
              "      <td>0</td>\n",
              "      <td>0</td>\n",
              "    </tr>\n",
              "    <tr>\n",
              "      <th>196</th>\n",
              "      <td>2019</td>\n",
              "      <td>38039.0</td>\n",
              "      <td>3.8</td>\n",
              "      <td>20</td>\n",
              "      <td>36439.0</td>\n",
              "      <td>0</td>\n",
              "      <td>0</td>\n",
              "      <td>0</td>\n",
              "      <td>1</td>\n",
              "    </tr>\n",
              "    <tr>\n",
              "      <th>197</th>\n",
              "      <td>2017</td>\n",
              "      <td>82815.0</td>\n",
              "      <td>3.8</td>\n",
              "      <td>20</td>\n",
              "      <td>17900.0</td>\n",
              "      <td>0</td>\n",
              "      <td>0</td>\n",
              "      <td>0</td>\n",
              "      <td>1</td>\n",
              "    </tr>\n",
              "    <tr>\n",
              "      <th>198</th>\n",
              "      <td>2019</td>\n",
              "      <td>28090.0</td>\n",
              "      <td>4.7</td>\n",
              "      <td>126</td>\n",
              "      <td>20557.0</td>\n",
              "      <td>0</td>\n",
              "      <td>0</td>\n",
              "      <td>0</td>\n",
              "      <td>1</td>\n",
              "    </tr>\n",
              "    <tr>\n",
              "      <th>199</th>\n",
              "      <td>2019</td>\n",
              "      <td>19303.0</td>\n",
              "      <td>4.5</td>\n",
              "      <td>567</td>\n",
              "      <td>32990.0</td>\n",
              "      <td>0</td>\n",
              "      <td>0</td>\n",
              "      <td>0</td>\n",
              "      <td>1</td>\n",
              "    </tr>\n",
              "  </tbody>\n",
              "</table>\n",
              "<p>200 rows × 9 columns</p>\n",
              "</div>"
            ],
            "text/plain": [
              "     MODEL  MILES_DRIVEN  ...  CAR_NAME_Honda Odyssey EX-L  CAR_NAME_Other\n",
              "0     2016       46994.0  ...                            0               0\n",
              "1     2016       49473.0  ...                            0               1\n",
              "2     2018       19944.0  ...                            0               0\n",
              "3     2018       37295.0  ...                            1               0\n",
              "4     2021        3697.0  ...                            0               1\n",
              "..     ...           ...  ...                          ...             ...\n",
              "195   2014       31555.0  ...                            0               0\n",
              "196   2019       38039.0  ...                            0               1\n",
              "197   2017       82815.0  ...                            0               1\n",
              "198   2019       28090.0  ...                            0               1\n",
              "199   2019       19303.0  ...                            0               1\n",
              "\n",
              "[200 rows x 9 columns]"
            ]
          },
          "metadata": {},
          "execution_count": 46
        }
      ]
    },
    {
      "cell_type": "code",
      "metadata": {
        "colab": {
          "base_uri": "https://localhost:8080/"
        },
        "id": "neNcsZQmWy17",
        "outputId": "80c6b6ca-512f-4ac7-daa3-1ccd0a811f20"
      },
      "source": [
        "df.columns"
      ],
      "execution_count": null,
      "outputs": [
        {
          "output_type": "execute_result",
          "data": {
            "text/plain": [
              "Index(['MODEL', 'MILES_DRIVEN', 'RATE', 'NO_OF_REVIEWS', 'PRICE',\n",
              "       'CAR_NAME_Honda CR-V EX', 'CAR_NAME_Honda Civic EX',\n",
              "       'CAR_NAME_Honda Odyssey EX-L', 'CAR_NAME_Other'],\n",
              "      dtype='object')"
            ]
          },
          "metadata": {},
          "execution_count": 47
        }
      ]
    },
    {
      "cell_type": "markdown",
      "metadata": {
        "id": "I61qO1tBUD8l"
      },
      "source": [
        "Split data into train and test"
      ]
    },
    {
      "cell_type": "code",
      "metadata": {
        "id": "_aNL9M2KO5GH"
      },
      "source": [
        "X=df.drop(columns=['PRICE'])"
      ],
      "execution_count": null,
      "outputs": []
    },
    {
      "cell_type": "code",
      "metadata": {
        "id": "_yAmShkMTSVn"
      },
      "source": [
        "y=df['PRICE']\n",
        "df_train,df_test=train_test_split(df,train_size=0.75,random_state=42)"
      ],
      "execution_count": null,
      "outputs": []
    },
    {
      "cell_type": "code",
      "metadata": {
        "id": "N90toCopO5GI"
      },
      "source": [
        "df_train2, df_val = train_test_split(df_train, test_size=0.25, random_state=3)"
      ],
      "execution_count": null,
      "outputs": []
    },
    {
      "cell_type": "markdown",
      "metadata": {
        "id": "5hoN8GZtQlFt"
      },
      "source": [
        "**Scaling**"
      ]
    },
    {
      "cell_type": "markdown",
      "metadata": {
        "id": "DcqtnswUQn0O"
      },
      "source": [
        "scaling the features makes interpretation of regression coefficients easier"
      ]
    },
    {
      "cell_type": "code",
      "metadata": {
        "id": "wKtsVvt4Ql5A"
      },
      "source": [
        "#columns_scale=df.columns\n",
        "#df_scaled=pd.DataFrame(scale(df))\n",
        "#df_scaled.columns=columns_scale\n",
        "#df_scaled.columns"
      ],
      "execution_count": null,
      "outputs": []
    },
    {
      "cell_type": "code",
      "metadata": {
        "id": "41HV82aIO5GJ",
        "colab": {
          "base_uri": "https://localhost:8080/"
        },
        "outputId": "673801c5-b285-4019-d405-e178923bf2d5"
      },
      "source": [
        "scaler = StandardScaler()\n",
        "df_train2[df.columns]=scaler.fit_transform(df_train2[df.columns])\n",
        "df_val[df.columns]=scaler.transform(df_val[df.columns])\n",
        "df_test[df.columns]=scaler.transform(df_test[df.columns])\n",
        "\n",
        "X_train=df_train2.drop('PRICE',axis=1)\n",
        "y_train=df_train2['PRICE']\n",
        "X_val=df_val.drop('PRICE',axis=1)\n",
        "y_val=df_val['PRICE']\n",
        "X_test=df_test.drop('PRICE',axis=1)\n",
        "y_test=df_test['PRICE']"
      ],
      "execution_count": null,
      "outputs": [
        {
          "output_type": "stream",
          "name": "stderr",
          "text": [
            "/usr/local/lib/python3.7/dist-packages/ipykernel_launcher.py:2: SettingWithCopyWarning: \n",
            "A value is trying to be set on a copy of a slice from a DataFrame.\n",
            "Try using .loc[row_indexer,col_indexer] = value instead\n",
            "\n",
            "See the caveats in the documentation: https://pandas.pydata.org/pandas-docs/stable/user_guide/indexing.html#returning-a-view-versus-a-copy\n",
            "  \n",
            "/usr/local/lib/python3.7/dist-packages/pandas/core/indexing.py:1734: SettingWithCopyWarning: \n",
            "A value is trying to be set on a copy of a slice from a DataFrame.\n",
            "Try using .loc[row_indexer,col_indexer] = value instead\n",
            "\n",
            "See the caveats in the documentation: https://pandas.pydata.org/pandas-docs/stable/user_guide/indexing.html#returning-a-view-versus-a-copy\n",
            "  isetter(loc, value[:, i].tolist())\n",
            "/usr/local/lib/python3.7/dist-packages/ipykernel_launcher.py:3: SettingWithCopyWarning: \n",
            "A value is trying to be set on a copy of a slice from a DataFrame.\n",
            "Try using .loc[row_indexer,col_indexer] = value instead\n",
            "\n",
            "See the caveats in the documentation: https://pandas.pydata.org/pandas-docs/stable/user_guide/indexing.html#returning-a-view-versus-a-copy\n",
            "  This is separate from the ipykernel package so we can avoid doing imports until\n",
            "/usr/local/lib/python3.7/dist-packages/pandas/core/indexing.py:1734: SettingWithCopyWarning: \n",
            "A value is trying to be set on a copy of a slice from a DataFrame.\n",
            "Try using .loc[row_indexer,col_indexer] = value instead\n",
            "\n",
            "See the caveats in the documentation: https://pandas.pydata.org/pandas-docs/stable/user_guide/indexing.html#returning-a-view-versus-a-copy\n",
            "  isetter(loc, value[:, i].tolist())\n",
            "/usr/local/lib/python3.7/dist-packages/ipykernel_launcher.py:4: SettingWithCopyWarning: \n",
            "A value is trying to be set on a copy of a slice from a DataFrame.\n",
            "Try using .loc[row_indexer,col_indexer] = value instead\n",
            "\n",
            "See the caveats in the documentation: https://pandas.pydata.org/pandas-docs/stable/user_guide/indexing.html#returning-a-view-versus-a-copy\n",
            "  after removing the cwd from sys.path.\n",
            "/usr/local/lib/python3.7/dist-packages/pandas/core/indexing.py:1734: SettingWithCopyWarning: \n",
            "A value is trying to be set on a copy of a slice from a DataFrame.\n",
            "Try using .loc[row_indexer,col_indexer] = value instead\n",
            "\n",
            "See the caveats in the documentation: https://pandas.pydata.org/pandas-docs/stable/user_guide/indexing.html#returning-a-view-versus-a-copy\n",
            "  isetter(loc, value[:, i].tolist())\n"
          ]
        }
      ]
    },
    {
      "cell_type": "code",
      "metadata": {
        "id": "bMtGkEZERWE5"
      },
      "source": [
        "#df_scaled.describe() \n",
        "#After scaling the features we noticed the std =1"
      ],
      "execution_count": null,
      "outputs": []
    },
    {
      "cell_type": "markdown",
      "metadata": {
        "id": "XXD8OVBWS3c_"
      },
      "source": [
        "Show the length of the (X_train, X_test, y_train and y_test) to verify that the process of splitting the data was done correctly."
      ]
    },
    {
      "cell_type": "code",
      "metadata": {
        "colab": {
          "base_uri": "https://localhost:8080/"
        },
        "id": "LIWL64V6SQUE",
        "outputId": "aed76f32-0e34-4cf5-9f66-cc110b122a83"
      },
      "source": [
        "print(\"Length of the X_train = \",len(X_train))\n",
        "print(\"Length of the y_train = \",len(y_train))\n",
        "print(\"Length of the X_test = \",len(X_test))\n",
        "print(\"Length of the y_test = \",len(y_test))\n",
        "print(\"Length of the y_val = \",len(y_val))\n",
        "print(\"Length of the y_val = \",len(y_val))"
      ],
      "execution_count": null,
      "outputs": [
        {
          "output_type": "stream",
          "name": "stdout",
          "text": [
            "Length of the X_train =  112\n",
            "Length of the y_train =  112\n",
            "Length of the X_test =  50\n",
            "Length of the y_test =  50\n",
            "Length of the y_val =  38\n",
            "Length of the y_val =  38\n"
          ]
        }
      ]
    },
    {
      "cell_type": "markdown",
      "metadata": {
        "id": "rpk7dowvVC8K"
      },
      "source": [
        "# **Model Building**"
      ]
    },
    {
      "cell_type": "markdown",
      "metadata": {
        "id": "UEdvzv5VX2gl"
      },
      "source": [
        "Model with all features"
      ]
    },
    {
      "cell_type": "code",
      "metadata": {
        "id": "YOwBwQdMUYAc",
        "colab": {
          "base_uri": "https://localhost:8080/"
        },
        "outputId": "056fb2e0-1695-4482-a5bc-931cc2795876"
      },
      "source": [
        "lm=LinearRegression()\n",
        "lm1= lm.fit(X_train,y_train)\n",
        "y_pred_val=lm1.predict(X_val)\n",
        "y_pred_train=lm1.predict(X_train)\n",
        "y_pred_test=lm1.predict(X_test)\n",
        "print(\"Score of training set = \",lm1.score(X_train,y_train))"
      ],
      "execution_count": null,
      "outputs": [
        {
          "output_type": "stream",
          "name": "stdout",
          "text": [
            "Score of training set =  0.7070045132621869\n"
          ]
        }
      ]
    },
    {
      "cell_type": "code",
      "metadata": {
        "id": "FvwjJ7OHO5GL",
        "colab": {
          "base_uri": "https://localhost:8080/"
        },
        "outputId": "5f189aad-f5c0-42ba-c71c-e1a113fb9d6f"
      },
      "source": [
        "print(\"Score of validation set = \",lm1.score(X_val,y_val))"
      ],
      "execution_count": null,
      "outputs": [
        {
          "output_type": "stream",
          "name": "stdout",
          "text": [
            "Score of validation set =  0.6495481371602382\n"
          ]
        }
      ]
    },
    {
      "cell_type": "code",
      "metadata": {
        "id": "yAvPQohOO5GL",
        "colab": {
          "base_uri": "https://localhost:8080/"
        },
        "outputId": "72af0c5a-7a03-46bd-bd43-9f0c5f47db0e"
      },
      "source": [
        "print(\"Score of test set = \",lm1.score(X_test,y_test))"
      ],
      "execution_count": null,
      "outputs": [
        {
          "output_type": "stream",
          "name": "stdout",
          "text": [
            "Score of test set =  0.604700006712553\n"
          ]
        }
      ]
    },
    {
      "cell_type": "code",
      "metadata": {
        "id": "PuKG8SerO5GM",
        "colab": {
          "base_uri": "https://localhost:8080/"
        },
        "outputId": "1fb7624b-9ad2-4c7e-b39d-c67ea1220725"
      },
      "source": [
        "y_pred_train.shape "
      ],
      "execution_count": null,
      "outputs": [
        {
          "output_type": "execute_result",
          "data": {
            "text/plain": [
              "(112,)"
            ]
          },
          "metadata": {},
          "execution_count": 58
        }
      ]
    },
    {
      "cell_type": "code",
      "metadata": {
        "id": "4HDoKRyiO5GM",
        "colab": {
          "base_uri": "https://localhost:8080/"
        },
        "outputId": "8e9f2aab-0622-4ca9-bb20-6272ac0eedf3"
      },
      "source": [
        "y_train.shape"
      ],
      "execution_count": null,
      "outputs": [
        {
          "output_type": "execute_result",
          "data": {
            "text/plain": [
              "(112,)"
            ]
          },
          "metadata": {},
          "execution_count": 59
        }
      ]
    },
    {
      "cell_type": "code",
      "metadata": {
        "id": "xXMqkzdSO5GM",
        "colab": {
          "base_uri": "https://localhost:8080/"
        },
        "outputId": "e378945a-6bea-48a7-874b-191272b51c20"
      },
      "source": [
        "X_train.shape "
      ],
      "execution_count": null,
      "outputs": [
        {
          "output_type": "execute_result",
          "data": {
            "text/plain": [
              "(112, 8)"
            ]
          },
          "metadata": {},
          "execution_count": 60
        }
      ]
    },
    {
      "cell_type": "code",
      "metadata": {
        "id": "WvbRT4f4O5GN",
        "colab": {
          "base_uri": "https://localhost:8080/"
        },
        "outputId": "9ce8fd95-5ccb-40e6-ec57-02ea26464f64"
      },
      "source": [
        "X_val.shape"
      ],
      "execution_count": null,
      "outputs": [
        {
          "output_type": "execute_result",
          "data": {
            "text/plain": [
              "(38, 8)"
            ]
          },
          "metadata": {},
          "execution_count": 61
        }
      ]
    },
    {
      "cell_type": "code",
      "metadata": {
        "id": "TFBciR2FO5GN",
        "colab": {
          "base_uri": "https://localhost:8080/"
        },
        "outputId": "f49a42a8-b1cd-43d9-daaa-7714232c7c32"
      },
      "source": [
        "y_val.shape"
      ],
      "execution_count": null,
      "outputs": [
        {
          "output_type": "execute_result",
          "data": {
            "text/plain": [
              "(38,)"
            ]
          },
          "metadata": {},
          "execution_count": 62
        }
      ]
    },
    {
      "cell_type": "markdown",
      "metadata": {
        "id": "mzfnN5dbO5GN"
      },
      "source": [
        "Train data "
      ]
    },
    {
      "cell_type": "code",
      "metadata": {
        "id": "ID8M9CVRO5GN",
        "colab": {
          "base_uri": "https://localhost:8080/"
        },
        "outputId": "a9d41cb9-a81d-4702-e8df-0c29ce9396f1"
      },
      "source": [
        "def SSE(actuals, preds):\n",
        "    return np.sum((actuals - preds)**2)\n",
        "\n",
        "SSE(y_pred_train,y_train)"
      ],
      "execution_count": null,
      "outputs": [
        {
          "output_type": "execute_result",
          "data": {
            "text/plain": [
              "32.81549451463507"
            ]
          },
          "metadata": {},
          "execution_count": 63
        }
      ]
    },
    {
      "cell_type": "code",
      "metadata": {
        "id": "_2r5jfp6O5GO",
        "colab": {
          "base_uri": "https://localhost:8080/"
        },
        "outputId": "4e2837c1-b8f9-45f1-bad9-58bc74c7ef6b"
      },
      "source": [
        "def RMSE(actuals, preds): #root mean squared error\n",
        "    return np.sqrt(np.mean((actuals - preds)**2))\n",
        "\n",
        "RMSE(y_pred_train,y_train)"
      ],
      "execution_count": null,
      "outputs": [
        {
          "output_type": "execute_result",
          "data": {
            "text/plain": [
              "0.5412905751422364"
            ]
          },
          "metadata": {},
          "execution_count": 64
        }
      ]
    },
    {
      "cell_type": "code",
      "metadata": {
        "id": "AX7dAMOLO5GO",
        "colab": {
          "base_uri": "https://localhost:8080/"
        },
        "outputId": "526c89c8-2163-45e2-b105-c5363cddedaf"
      },
      "source": [
        "def MAE(actuals, preds): #mean absolute error\n",
        "    return np.mean(np.abs(actuals-preds))\n",
        "\n",
        "MAE(y_pred_train,y_train)"
      ],
      "execution_count": null,
      "outputs": [
        {
          "output_type": "execute_result",
          "data": {
            "text/plain": [
              "0.41610838177730686"
            ]
          },
          "metadata": {},
          "execution_count": 65
        }
      ]
    },
    {
      "cell_type": "code",
      "metadata": {
        "id": "-AJARbdkO5GO"
      },
      "source": [
        "def SST(y):\n",
        "    return np.sum((y - np.mean(y))**2)"
      ],
      "execution_count": null,
      "outputs": []
    },
    {
      "cell_type": "code",
      "metadata": {
        "id": "WKjK9DDJO5GP",
        "colab": {
          "base_uri": "https://localhost:8080/"
        },
        "outputId": "4aee42be-6bc3-45c7-b417-e869aa993c97"
      },
      "source": [
        "def R2(actuals, preds):\n",
        "    return 1 - SSE(actuals, preds) / SST(actuals)\n",
        "\n",
        "R2(y_pred_train,y_train)"
      ],
      "execution_count": null,
      "outputs": [
        {
          "output_type": "execute_result",
          "data": {
            "text/plain": [
              "0.5855818721921529"
            ]
          },
          "metadata": {},
          "execution_count": 67
        }
      ]
    },
    {
      "cell_type": "markdown",
      "metadata": {
        "id": "gaBuqI4MO5GP"
      },
      "source": [
        "validation data "
      ]
    },
    {
      "cell_type": "code",
      "metadata": {
        "id": "ChoIehrWO5GP",
        "colab": {
          "base_uri": "https://localhost:8080/"
        },
        "outputId": "92576bd2-f1c0-4046-e731-6e0581427cf8"
      },
      "source": [
        "def SSE(actuals, preds):\n",
        "    return np.sum((actuals - preds)**2)\n",
        "\n",
        "SSE(y_pred_val,y_val)"
      ],
      "execution_count": null,
      "outputs": [
        {
          "output_type": "execute_result",
          "data": {
            "text/plain": [
              "13.513115416501897"
            ]
          },
          "metadata": {},
          "execution_count": 68
        }
      ]
    },
    {
      "cell_type": "code",
      "metadata": {
        "id": "pi_J18I-O5GQ",
        "colab": {
          "base_uri": "https://localhost:8080/"
        },
        "outputId": "4d2a1fc8-08c2-4c87-fbdd-51810484022c"
      },
      "source": [
        "def RMSE(actuals, preds): #root mean squared error\n",
        "    return np.sqrt(np.mean((actuals - preds)**2))\n",
        "\n",
        "RMSE(y_pred_val,y_val)"
      ],
      "execution_count": null,
      "outputs": [
        {
          "output_type": "execute_result",
          "data": {
            "text/plain": [
              "0.5963290202851614"
            ]
          },
          "metadata": {},
          "execution_count": 69
        }
      ]
    },
    {
      "cell_type": "code",
      "metadata": {
        "id": "nc2Gs_N5O5GQ",
        "colab": {
          "base_uri": "https://localhost:8080/"
        },
        "outputId": "b0a95cac-3a42-4d01-b69d-b781c965e83f"
      },
      "source": [
        "def MAE(actuals, preds): #mean absolute error\n",
        "    return np.mean(np.abs(actuals-preds))\n",
        "\n",
        "MAE(y_pred_val,y_val)"
      ],
      "execution_count": null,
      "outputs": [
        {
          "output_type": "execute_result",
          "data": {
            "text/plain": [
              "0.46363964770766725"
            ]
          },
          "metadata": {},
          "execution_count": 70
        }
      ]
    },
    {
      "cell_type": "code",
      "metadata": {
        "id": "kFRGOpVNO5GQ",
        "colab": {
          "base_uri": "https://localhost:8080/"
        },
        "outputId": "0712ea28-ef55-4681-e02a-811872c45477"
      },
      "source": [
        "def SST(y):\n",
        "    return np.sum((y - np.mean(y))**2)\n",
        "def R2(actuals, preds):\n",
        "    return 1 - SSE(actuals, preds) / SST(actuals)\n",
        "\n",
        "R2(y_pred_val,y_val)"
      ],
      "execution_count": null,
      "outputs": [
        {
          "output_type": "execute_result",
          "data": {
            "text/plain": [
              "0.43340856220556445"
            ]
          },
          "metadata": {},
          "execution_count": 71
        }
      ]
    },
    {
      "cell_type": "code",
      "metadata": {
        "colab": {
          "base_uri": "https://localhost:8080/",
          "height": 423
        },
        "id": "xG6VVySq2U4c",
        "outputId": "b5f52580-564f-48f8-a93e-542070b2bcff"
      },
      "source": [
        "results = sm.OLS(y_pred_train, y_train).fit()\n",
        "results.summary()"
      ],
      "execution_count": null,
      "outputs": [
        {
          "output_type": "execute_result",
          "data": {
            "text/html": [
              "<table class=\"simpletable\">\n",
              "<caption>OLS Regression Results</caption>\n",
              "<tr>\n",
              "  <th>Dep. Variable:</th>            <td>y</td>        <th>  R-squared (uncentered):</th>      <td>   0.707</td>\n",
              "</tr>\n",
              "<tr>\n",
              "  <th>Model:</th>                   <td>OLS</td>       <th>  Adj. R-squared (uncentered):</th> <td>   0.704</td>\n",
              "</tr>\n",
              "<tr>\n",
              "  <th>Method:</th>             <td>Least Squares</td>  <th>  F-statistic:       </th>          <td>   267.8</td>\n",
              "</tr>\n",
              "<tr>\n",
              "  <th>Date:</th>             <td>Thu, 23 Sep 2021</td> <th>  Prob (F-statistic):</th>          <td>2.31e-31</td>\n",
              "</tr>\n",
              "<tr>\n",
              "  <th>Time:</th>                 <td>06:09:46</td>     <th>  Log-Likelihood:    </th>          <td> -70.759</td>\n",
              "</tr>\n",
              "<tr>\n",
              "  <th>No. Observations:</th>      <td>   112</td>      <th>  AIC:               </th>          <td>   143.5</td>\n",
              "</tr>\n",
              "<tr>\n",
              "  <th>Df Residuals:</th>          <td>   111</td>      <th>  BIC:               </th>          <td>   146.2</td>\n",
              "</tr>\n",
              "<tr>\n",
              "  <th>Df Model:</th>              <td>     1</td>      <th>                     </th>              <td> </td>   \n",
              "</tr>\n",
              "<tr>\n",
              "  <th>Covariance Type:</th>      <td>nonrobust</td>    <th>                     </th>              <td> </td>   \n",
              "</tr>\n",
              "</table>\n",
              "<table class=\"simpletable\">\n",
              "<tr>\n",
              "    <td></td>       <th>coef</th>     <th>std err</th>      <th>t</th>      <th>P>|t|</th>  <th>[0.025</th>    <th>0.975]</th>  \n",
              "</tr>\n",
              "<tr>\n",
              "  <th>PRICE</th> <td>    0.7070</td> <td>    0.043</td> <td>   16.366</td> <td> 0.000</td> <td>    0.621</td> <td>    0.793</td>\n",
              "</tr>\n",
              "</table>\n",
              "<table class=\"simpletable\">\n",
              "<tr>\n",
              "  <th>Omnibus:</th>       <td> 4.655</td> <th>  Durbin-Watson:     </th> <td>   2.045</td>\n",
              "</tr>\n",
              "<tr>\n",
              "  <th>Prob(Omnibus):</th> <td> 0.098</td> <th>  Jarque-Bera (JB):  </th> <td>   4.045</td>\n",
              "</tr>\n",
              "<tr>\n",
              "  <th>Skew:</th>          <td>-0.432</td> <th>  Prob(JB):          </th> <td>   0.132</td>\n",
              "</tr>\n",
              "<tr>\n",
              "  <th>Kurtosis:</th>      <td> 3.348</td> <th>  Cond. No.          </th> <td>    1.00</td>\n",
              "</tr>\n",
              "</table><br/><br/>Warnings:<br/>[1] Standard Errors assume that the covariance matrix of the errors is correctly specified."
            ],
            "text/plain": [
              "<class 'statsmodels.iolib.summary.Summary'>\n",
              "\"\"\"\n",
              "                                 OLS Regression Results                                \n",
              "=======================================================================================\n",
              "Dep. Variable:                      y   R-squared (uncentered):                   0.707\n",
              "Model:                            OLS   Adj. R-squared (uncentered):              0.704\n",
              "Method:                 Least Squares   F-statistic:                              267.8\n",
              "Date:                Thu, 23 Sep 2021   Prob (F-statistic):                    2.31e-31\n",
              "Time:                        06:09:46   Log-Likelihood:                         -70.759\n",
              "No. Observations:                 112   AIC:                                      143.5\n",
              "Df Residuals:                     111   BIC:                                      146.2\n",
              "Df Model:                           1                                                  \n",
              "Covariance Type:            nonrobust                                                  \n",
              "==============================================================================\n",
              "                 coef    std err          t      P>|t|      [0.025      0.975]\n",
              "------------------------------------------------------------------------------\n",
              "PRICE          0.7070      0.043     16.366      0.000       0.621       0.793\n",
              "==============================================================================\n",
              "Omnibus:                        4.655   Durbin-Watson:                   2.045\n",
              "Prob(Omnibus):                  0.098   Jarque-Bera (JB):                4.045\n",
              "Skew:                          -0.432   Prob(JB):                        0.132\n",
              "Kurtosis:                       3.348   Cond. No.                         1.00\n",
              "==============================================================================\n",
              "\n",
              "Warnings:\n",
              "[1] Standard Errors assume that the covariance matrix of the errors is correctly specified.\n",
              "\"\"\""
            ]
          },
          "metadata": {},
          "execution_count": 72
        }
      ]
    },
    {
      "cell_type": "code",
      "metadata": {
        "id": "4fQL4pC2O5GR",
        "colab": {
          "base_uri": "https://localhost:8080/",
          "height": 423
        },
        "outputId": "93ca9a9b-35af-4996-c51d-900429c3ad07"
      },
      "source": [
        "results = sm.OLS(y_pred_val, y_val).fit()\n",
        "results.summary()"
      ],
      "execution_count": null,
      "outputs": [
        {
          "output_type": "execute_result",
          "data": {
            "text/html": [
              "<table class=\"simpletable\">\n",
              "<caption>OLS Regression Results</caption>\n",
              "<tr>\n",
              "  <th>Dep. Variable:</th>            <td>y</td>        <th>  R-squared (uncentered):</th>      <td>   0.650</td>\n",
              "</tr>\n",
              "<tr>\n",
              "  <th>Model:</th>                   <td>OLS</td>       <th>  Adj. R-squared (uncentered):</th> <td>   0.641</td>\n",
              "</tr>\n",
              "<tr>\n",
              "  <th>Method:</th>             <td>Least Squares</td>  <th>  F-statistic:       </th>          <td>   68.75</td>\n",
              "</tr>\n",
              "<tr>\n",
              "  <th>Date:</th>             <td>Thu, 23 Sep 2021</td> <th>  Prob (F-statistic):</th>          <td>5.83e-10</td>\n",
              "</tr>\n",
              "<tr>\n",
              "  <th>Time:</th>                 <td>06:09:46</td>     <th>  Log-Likelihood:    </th>          <td> -25.117</td>\n",
              "</tr>\n",
              "<tr>\n",
              "  <th>No. Observations:</th>      <td>    38</td>      <th>  AIC:               </th>          <td>   52.23</td>\n",
              "</tr>\n",
              "<tr>\n",
              "  <th>Df Residuals:</th>          <td>    37</td>      <th>  BIC:               </th>          <td>   53.87</td>\n",
              "</tr>\n",
              "<tr>\n",
              "  <th>Df Model:</th>              <td>     1</td>      <th>                     </th>              <td> </td>   \n",
              "</tr>\n",
              "<tr>\n",
              "  <th>Covariance Type:</th>      <td>nonrobust</td>    <th>                     </th>              <td> </td>   \n",
              "</tr>\n",
              "</table>\n",
              "<table class=\"simpletable\">\n",
              "<tr>\n",
              "    <td></td>       <th>coef</th>     <th>std err</th>      <th>t</th>      <th>P>|t|</th>  <th>[0.025</th>    <th>0.975]</th>  \n",
              "</tr>\n",
              "<tr>\n",
              "  <th>PRICE</th> <td>    0.6340</td> <td>    0.076</td> <td>    8.291</td> <td> 0.000</td> <td>    0.479</td> <td>    0.789</td>\n",
              "</tr>\n",
              "</table>\n",
              "<table class=\"simpletable\">\n",
              "<tr>\n",
              "  <th>Omnibus:</th>       <td> 2.220</td> <th>  Durbin-Watson:     </th> <td>   1.698</td>\n",
              "</tr>\n",
              "<tr>\n",
              "  <th>Prob(Omnibus):</th> <td> 0.330</td> <th>  Jarque-Bera (JB):  </th> <td>   1.742</td>\n",
              "</tr>\n",
              "<tr>\n",
              "  <th>Skew:</th>          <td>-0.361</td> <th>  Prob(JB):          </th> <td>   0.419</td>\n",
              "</tr>\n",
              "<tr>\n",
              "  <th>Kurtosis:</th>      <td> 2.238</td> <th>  Cond. No.          </th> <td>    1.00</td>\n",
              "</tr>\n",
              "</table><br/><br/>Warnings:<br/>[1] Standard Errors assume that the covariance matrix of the errors is correctly specified."
            ],
            "text/plain": [
              "<class 'statsmodels.iolib.summary.Summary'>\n",
              "\"\"\"\n",
              "                                 OLS Regression Results                                \n",
              "=======================================================================================\n",
              "Dep. Variable:                      y   R-squared (uncentered):                   0.650\n",
              "Model:                            OLS   Adj. R-squared (uncentered):              0.641\n",
              "Method:                 Least Squares   F-statistic:                              68.75\n",
              "Date:                Thu, 23 Sep 2021   Prob (F-statistic):                    5.83e-10\n",
              "Time:                        06:09:46   Log-Likelihood:                         -25.117\n",
              "No. Observations:                  38   AIC:                                      52.23\n",
              "Df Residuals:                      37   BIC:                                      53.87\n",
              "Df Model:                           1                                                  \n",
              "Covariance Type:            nonrobust                                                  \n",
              "==============================================================================\n",
              "                 coef    std err          t      P>|t|      [0.025      0.975]\n",
              "------------------------------------------------------------------------------\n",
              "PRICE          0.6340      0.076      8.291      0.000       0.479       0.789\n",
              "==============================================================================\n",
              "Omnibus:                        2.220   Durbin-Watson:                   1.698\n",
              "Prob(Omnibus):                  0.330   Jarque-Bera (JB):                1.742\n",
              "Skew:                          -0.361   Prob(JB):                        0.419\n",
              "Kurtosis:                       2.238   Cond. No.                         1.00\n",
              "==============================================================================\n",
              "\n",
              "Warnings:\n",
              "[1] Standard Errors assume that the covariance matrix of the errors is correctly specified.\n",
              "\"\"\""
            ]
          },
          "metadata": {},
          "execution_count": 73
        }
      ]
    },
    {
      "cell_type": "markdown",
      "metadata": {
        "id": "3HjX0odQYqay"
      },
      "source": [
        "There is overfitting, so we doing the Feature selection using RFE "
      ]
    },
    {
      "cell_type": "markdown",
      "metadata": {
        "id": "tjbtHEgmO5GS"
      },
      "source": [
        "# Linear Regression Assumptions Validation"
      ]
    },
    {
      "cell_type": "markdown",
      "metadata": {
        "id": "HhS3V0g8O5GS"
      },
      "source": [
        "**Assumption 1: regression is linear in parameters and correctly specified**"
      ]
    },
    {
      "cell_type": "code",
      "metadata": {
        "id": "45UI4qk8O5GS"
      },
      "source": [
        "def diagnostic_plot(x, y):\n",
        "    plt.figure(figsize=(20,5))\n",
        "    \n",
        "    rgr = LinearRegression()\n",
        "    rgr.fit(x,y)\n",
        "    pred = rgr.predict(x) # \"regression prediction\"\n",
        "\n",
        "    plt.subplot(1, 3, 1)\n",
        "    plt.scatter(x,y) # \"scatter\"\n",
        "    plt.plot(x, pred, color='blue',linewidth=1)\n",
        "    plt.title(\"Regression fit\")\n",
        "    plt.xlabel(\"x\")\n",
        "    plt.ylabel(\"y\")\n",
        "    \n",
        "    plt.subplot(1, 3, 2)\n",
        "    res = y - pred\n",
        "    plt.scatter(pred, res) # \"scatter supposed to have no pattern\"\n",
        "    plt.title(\"Residual plot\")\n",
        "    plt.xlabel(\"prediction\")\n",
        "    plt.ylabel(\"residuals\")\n",
        "    \n",
        "    plt.subplot(1, 3, 3)\n",
        "    #Generates a probability plot of sample data against the quantiles of a \n",
        "    # specified theoretical distribution \n",
        "    stats.probplot(res, dist=\"norm\", plot=plt) # \"normal qq plot\"\n",
        "    plt.title(\"Normal Q-Q plot\")"
      ],
      "execution_count": null,
      "outputs": []
    },
    {
      "cell_type": "code",
      "metadata": {
        "id": "UeFL3gScO5GS",
        "colab": {
          "base_uri": "https://localhost:8080/",
          "height": 196
        },
        "outputId": "ad2fb97e-8570-4441-b4a1-ff019e4a3800"
      },
      "source": [
        "diagnostic_plot(y_pred_train.reshape(112,1), y_train)"
      ],
      "execution_count": null,
      "outputs": [
        {
          "output_type": "display_data",
          "data": {
            "image/png": "[encoded data removed]",
            "text/plain": [
              "<Figure size 1440x360 with 3 Axes>"
            ]
          },
          "metadata": {
            "needs_background": "light"
          }
        }
      ]
    },
    {
      "cell_type": "markdown",
      "metadata": {
        "id": "dYidITfCO5GT"
      },
      "source": [
        "**Assumption 2: residuals ( ${e_i} = Y_i-\\hat{Y}_i$ ) should be normally distributed with zero mean**"
      ]
    },
    {
      "cell_type": "code",
      "metadata": {
        "id": "ZS63QpzBg2wC"
      },
      "source": [
        ""
      ],
      "execution_count": null,
      "outputs": []
    },
    {
      "cell_type": "code",
      "metadata": {
        "id": "nk5_v5WPO5GT",
        "colab": {
          "base_uri": "https://localhost:8080/",
          "height": 612
        },
        "outputId": "3a7d8a69-1bf9-46a6-bec3-b36e0621572a"
      },
      "source": [
        "df_train2['predict']=y_pred_train\n",
        "df_train2['resid']=y_train-df_train2.predict  # \"residuals\"\n",
        "with sns.axes_style('white'):\n",
        "    plot=df_train2.plot(kind='scatter',\n",
        "                  x='predict',y='resid',alpha=0.2,figsize=(10,6))"
      ],
      "execution_count": null,
      "outputs": [
        {
          "output_type": "stream",
          "name": "stderr",
          "text": [
            "/usr/local/lib/python3.7/dist-packages/ipykernel_launcher.py:1: SettingWithCopyWarning: \n",
            "A value is trying to be set on a copy of a slice from a DataFrame.\n",
            "Try using .loc[row_indexer,col_indexer] = value instead\n",
            "\n",
            "See the caveats in the documentation: https://pandas.pydata.org/pandas-docs/stable/user_guide/indexing.html#returning-a-view-versus-a-copy\n",
            "  \"\"\"Entry point for launching an IPython kernel.\n",
            "/usr/local/lib/python3.7/dist-packages/ipykernel_launcher.py:2: SettingWithCopyWarning: \n",
            "A value is trying to be set on a copy of a slice from a DataFrame.\n",
            "Try using .loc[row_indexer,col_indexer] = value instead\n",
            "\n",
            "See the caveats in the documentation: https://pandas.pydata.org/pandas-docs/stable/user_guide/indexing.html#returning-a-view-versus-a-copy\n",
            "  \n"
          ]
        },
        {
          "output_type": "display_data",
          "data": {
            "image/png": "[encoded data removed]",
            "text/plain": [
              "<Figure size 720x432 with 1 Axes>"
            ]
          },
          "metadata": {}
        }
      ]
    },
    {
      "cell_type": "code",
      "metadata": {
        "id": "I5dKot9pO5GT",
        "colab": {
          "base_uri": "https://localhost:8080/",
          "height": 281
        },
        "outputId": "088f5389-d42a-44c0-97b4-c277fe96ace6"
      },
      "source": [
        "y_train.hist(bins=35)\n",
        "plt.title('Histogram of Dependent Variable (User Counts)');"
      ],
      "execution_count": null,
      "outputs": [
        {
          "output_type": "display_data",
          "data": {
            "image/png": "[encoded data removed]",
            "text/plain": [
              "<Figure size 432x288 with 1 Axes>"
            ]
          },
          "metadata": {
            "needs_background": "light"
          }
        }
      ]
    },
    {
      "cell_type": "code",
      "metadata": {
        "id": "QGskaf8zO5GU",
        "colab": {
          "base_uri": "https://localhost:8080/",
          "height": 295
        },
        "outputId": "5314214c-060e-4708-c67a-87f64289b8d9"
      },
      "source": [
        "stats.probplot(df_train2['resid'], dist=\"norm\", plot=plt)\n",
        "plt.title(\"Normal Q-Q plot\")\n",
        "plt.show()"
      ],
      "execution_count": null,
      "outputs": [
        {
          "output_type": "display_data",
          "data": {
            "image/png": "[encoded data removed]",
            "text/plain": [
              "<Figure size 432x288 with 1 Axes>"
            ]
          },
          "metadata": {
            "needs_background": "light"
          }
        }
      ]
    },
    {
      "cell_type": "code",
      "metadata": {
        "id": "FICXGaaeO5GU",
        "colab": {
          "base_uri": "https://localhost:8080/",
          "height": 280
        },
        "outputId": "41e3be9d-b612-4867-ce37-e7abe5fa06d0"
      },
      "source": [
        "ts = df_train2[['MILES_DRIVEN','resid']].set_index('MILES_DRIVEN')\n",
        "ts.plot(style=\".\");"
      ],
      "execution_count": null,
      "outputs": [
        {
          "output_type": "display_data",
          "data": {
            "image/png": "[encoded data removed]",
            "text/plain": [
              "<Figure size 432x288 with 1 Axes>"
            ]
          },
          "metadata": {
            "needs_background": "light"
          }
        }
      ]
    },
    {
      "cell_type": "markdown",
      "metadata": {
        "id": "5W05U2qkiT5V"
      },
      "source": [
        "Assumption 3: error terms must have constant variance\n",
        "\n",
        "\n",
        "\n"
      ]
    },
    {
      "cell_type": "code",
      "metadata": {
        "colab": {
          "base_uri": "https://localhost:8080/",
          "height": 604
        },
        "id": "3yY9bpR6i6Ky",
        "outputId": "a784d1c9-5d39-44da-f5be-a8ffcc72cbbc"
      },
      "source": [
        "model = sm.OLS(y,X) # \"from stats package\"\n",
        "fit = model.fit()\n",
        "fit.summary()"
      ],
      "execution_count": null,
      "outputs": [
        {
          "output_type": "execute_result",
          "data": {
            "text/html": [
              "<table class=\"simpletable\">\n",
              "<caption>OLS Regression Results</caption>\n",
              "<tr>\n",
              "  <th>Dep. Variable:</th>          <td>PRICE</td>      <th>  R-squared (uncentered):</th>      <td>   0.960</td> \n",
              "</tr>\n",
              "<tr>\n",
              "  <th>Model:</th>                   <td>OLS</td>       <th>  Adj. R-squared (uncentered):</th> <td>   0.958</td> \n",
              "</tr>\n",
              "<tr>\n",
              "  <th>Method:</th>             <td>Least Squares</td>  <th>  F-statistic:       </th>          <td>   574.4</td> \n",
              "</tr>\n",
              "<tr>\n",
              "  <th>Date:</th>             <td>Thu, 23 Sep 2021</td> <th>  Prob (F-statistic):</th>          <td>1.14e-129</td>\n",
              "</tr>\n",
              "<tr>\n",
              "  <th>Time:</th>                 <td>06:09:50</td>     <th>  Log-Likelihood:    </th>          <td> -2003.3</td> \n",
              "</tr>\n",
              "<tr>\n",
              "  <th>No. Observations:</th>      <td>   200</td>      <th>  AIC:               </th>          <td>   4023.</td> \n",
              "</tr>\n",
              "<tr>\n",
              "  <th>Df Residuals:</th>          <td>   192</td>      <th>  BIC:               </th>          <td>   4049.</td> \n",
              "</tr>\n",
              "<tr>\n",
              "  <th>Df Model:</th>              <td>     8</td>      <th>                     </th>              <td> </td>    \n",
              "</tr>\n",
              "<tr>\n",
              "  <th>Covariance Type:</th>      <td>nonrobust</td>    <th>                     </th>              <td> </td>    \n",
              "</tr>\n",
              "</table>\n",
              "<table class=\"simpletable\">\n",
              "<tr>\n",
              "               <td></td>                  <th>coef</th>     <th>std err</th>      <th>t</th>      <th>P>|t|</th>  <th>[0.025</th>    <th>0.975]</th>  \n",
              "</tr>\n",
              "<tr>\n",
              "  <th>MODEL</th>                       <td>   13.7354</td> <td>    1.678</td> <td>    8.188</td> <td> 0.000</td> <td>   10.427</td> <td>   17.044</td>\n",
              "</tr>\n",
              "<tr>\n",
              "  <th>MILES_DRIVEN</th>                <td>   -0.1513</td> <td>    0.014</td> <td>  -10.645</td> <td> 0.000</td> <td>   -0.179</td> <td>   -0.123</td>\n",
              "</tr>\n",
              "<tr>\n",
              "  <th>RATE</th>                        <td>  105.9723</td> <td>  741.462</td> <td>    0.143</td> <td> 0.887</td> <td>-1356.484</td> <td> 1568.429</td>\n",
              "</tr>\n",
              "<tr>\n",
              "  <th>NO_OF_REVIEWS</th>               <td>    0.3361</td> <td>    0.353</td> <td>    0.952</td> <td> 0.343</td> <td>   -0.361</td> <td>    1.033</td>\n",
              "</tr>\n",
              "<tr>\n",
              "  <th>CAR_NAME_Honda CR-V EX</th>      <td> 2631.2474</td> <td> 1832.346</td> <td>    1.436</td> <td> 0.153</td> <td> -982.865</td> <td> 6245.360</td>\n",
              "</tr>\n",
              "<tr>\n",
              "  <th>CAR_NAME_Honda Civic EX</th>     <td>-1839.0398</td> <td> 2022.211</td> <td>   -0.909</td> <td> 0.364</td> <td>-5827.642</td> <td> 2149.562</td>\n",
              "</tr>\n",
              "<tr>\n",
              "  <th>CAR_NAME_Honda Odyssey EX-L</th> <td> 1.145e+04</td> <td> 1727.213</td> <td>    6.627</td> <td> 0.000</td> <td> 8038.683</td> <td> 1.49e+04</td>\n",
              "</tr>\n",
              "<tr>\n",
              "  <th>CAR_NAME_Other</th>              <td> 3805.4891</td> <td> 1337.075</td> <td>    2.846</td> <td> 0.005</td> <td> 1168.248</td> <td> 6442.730</td>\n",
              "</tr>\n",
              "</table>\n",
              "<table class=\"simpletable\">\n",
              "<tr>\n",
              "  <th>Omnibus:</th>       <td> 7.226</td> <th>  Durbin-Watson:     </th> <td>   2.154</td>\n",
              "</tr>\n",
              "<tr>\n",
              "  <th>Prob(Omnibus):</th> <td> 0.027</td> <th>  Jarque-Bera (JB):  </th> <td>   7.142</td>\n",
              "</tr>\n",
              "<tr>\n",
              "  <th>Skew:</th>          <td> 0.459</td> <th>  Prob(JB):          </th> <td>  0.0281</td>\n",
              "</tr>\n",
              "<tr>\n",
              "  <th>Kurtosis:</th>      <td> 3.112</td> <th>  Cond. No.          </th> <td>3.62e+05</td>\n",
              "</tr>\n",
              "</table><br/><br/>Warnings:<br/>[1] Standard Errors assume that the covariance matrix of the errors is correctly specified.<br/>[2] The condition number is large, 3.62e+05. This might indicate that there are<br/>strong multicollinearity or other numerical problems."
            ],
            "text/plain": [
              "<class 'statsmodels.iolib.summary.Summary'>\n",
              "\"\"\"\n",
              "                                 OLS Regression Results                                \n",
              "=======================================================================================\n",
              "Dep. Variable:                  PRICE   R-squared (uncentered):                   0.960\n",
              "Model:                            OLS   Adj. R-squared (uncentered):              0.958\n",
              "Method:                 Least Squares   F-statistic:                              574.4\n",
              "Date:                Thu, 23 Sep 2021   Prob (F-statistic):                   1.14e-129\n",
              "Time:                        06:09:50   Log-Likelihood:                         -2003.3\n",
              "No. Observations:                 200   AIC:                                      4023.\n",
              "Df Residuals:                     192   BIC:                                      4049.\n",
              "Df Model:                           8                                                  \n",
              "Covariance Type:            nonrobust                                                  \n",
              "===============================================================================================\n",
              "                                  coef    std err          t      P>|t|      [0.025      0.975]\n",
              "-----------------------------------------------------------------------------------------------\n",
              "MODEL                          13.7354      1.678      8.188      0.000      10.427      17.044\n",
              "MILES_DRIVEN                   -0.1513      0.014    -10.645      0.000      -0.179      -0.123\n",
              "RATE                          105.9723    741.462      0.143      0.887   -1356.484    1568.429\n",
              "NO_OF_REVIEWS                   0.3361      0.353      0.952      0.343      -0.361       1.033\n",
              "CAR_NAME_Honda CR-V EX       2631.2474   1832.346      1.436      0.153    -982.865    6245.360\n",
              "CAR_NAME_Honda Civic EX     -1839.0398   2022.211     -0.909      0.364   -5827.642    2149.562\n",
              "CAR_NAME_Honda Odyssey EX-L  1.145e+04   1727.213      6.627      0.000    8038.683    1.49e+04\n",
              "CAR_NAME_Other               3805.4891   1337.075      2.846      0.005    1168.248    6442.730\n",
              "==============================================================================\n",
              "Omnibus:                        7.226   Durbin-Watson:                   2.154\n",
              "Prob(Omnibus):                  0.027   Jarque-Bera (JB):                7.142\n",
              "Skew:                           0.459   Prob(JB):                       0.0281\n",
              "Kurtosis:                       3.112   Cond. No.                     3.62e+05\n",
              "==============================================================================\n",
              "\n",
              "Warnings:\n",
              "[1] Standard Errors assume that the covariance matrix of the errors is correctly specified.\n",
              "[2] The condition number is large, 3.62e+05. This might indicate that there are\n",
              "strong multicollinearity or other numerical problems.\n",
              "\"\"\""
            ]
          },
          "metadata": {},
          "execution_count": 80
        }
      ]
    },
    {
      "cell_type": "code",
      "metadata": {
        "colab": {
          "base_uri": "https://localhost:8080/",
          "height": 609
        },
        "id": "Y5MRz0pKi-gx",
        "outputId": "1adfbd87-43b5-4603-87d6-0bdf7596e5e5"
      },
      "source": [
        "# create residual plot\n",
        "df_train2['predict']=fit.predict(X) # \"we added the predication to the data frame\"\n",
        "df_train2['resid']= y-df_train2.predict # \"we added the residuals to the data frame\"\n",
        "with sns.axes_style('white'):\n",
        "    plot = df_train2.plot(\n",
        "        kind='scatter', x='predict', y='resid', alpha=0.5, figsize=(10,6))"
      ],
      "execution_count": null,
      "outputs": [
        {
          "output_type": "stream",
          "name": "stderr",
          "text": [
            "/usr/local/lib/python3.7/dist-packages/ipykernel_launcher.py:2: SettingWithCopyWarning: \n",
            "A value is trying to be set on a copy of a slice from a DataFrame.\n",
            "Try using .loc[row_indexer,col_indexer] = value instead\n",
            "\n",
            "See the caveats in the documentation: https://pandas.pydata.org/pandas-docs/stable/user_guide/indexing.html#returning-a-view-versus-a-copy\n",
            "  \n",
            "/usr/local/lib/python3.7/dist-packages/ipykernel_launcher.py:3: SettingWithCopyWarning: \n",
            "A value is trying to be set on a copy of a slice from a DataFrame.\n",
            "Try using .loc[row_indexer,col_indexer] = value instead\n",
            "\n",
            "See the caveats in the documentation: https://pandas.pydata.org/pandas-docs/stable/user_guide/indexing.html#returning-a-view-versus-a-copy\n",
            "  This is separate from the ipykernel package so we can avoid doing imports until\n"
          ]
        },
        {
          "output_type": "display_data",
          "data": {
            "image/png": "[encoded data removed]",
            "text/plain": [
              "<Figure size 720x432 with 1 Axes>"
            ]
          },
          "metadata": {}
        }
      ]
    },
    {
      "cell_type": "code",
      "metadata": {
        "colab": {
          "base_uri": "https://localhost:8080/",
          "height": 265
        },
        "id": "L-aUsAw8jrVr",
        "outputId": "75be7026-6a7e-4aed-be5d-02cc163d48ae"
      },
      "source": [
        "df_train2.PRICE.hist();"
      ],
      "execution_count": null,
      "outputs": [
        {
          "output_type": "display_data",
          "data": {
            "image/png": "[encoded data removed]",
            "text/plain": [
              "<Figure size 432x288 with 1 Axes>"
            ]
          },
          "metadata": {
            "needs_background": "light"
          }
        }
      ]
    },
    {
      "cell_type": "code",
      "metadata": {
        "colab": {
          "base_uri": "https://localhost:8080/",
          "height": 322
        },
        "id": "MMc76vCqkUdO",
        "outputId": "60042a20-a49b-4f98-b04e-92d5aeed6648"
      },
      "source": [
        "np.log(df_train2.PRICE).hist();"
      ],
      "execution_count": null,
      "outputs": [
        {
          "output_type": "stream",
          "name": "stderr",
          "text": [
            "/usr/local/lib/python3.7/dist-packages/pandas/core/series.py:726: RuntimeWarning: invalid value encountered in log\n",
            "  result = getattr(ufunc, method)(*inputs, **kwargs)\n"
          ]
        },
        {
          "output_type": "display_data",
          "data": {
            "image/png": "[encoded data removed]",
            "text/plain": [
              "<Figure size 432x288 with 1 Axes>"
            ]
          },
          "metadata": {
            "needs_background": "light"
          }
        }
      ]
    },
    {
      "cell_type": "code",
      "metadata": {
        "colab": {
          "base_uri": "https://localhost:8080/",
          "height": 265
        },
        "id": "6MpCmmnEQzB-",
        "outputId": "c2f75bfd-a9ea-4e20-deda-c86bbe0139c1"
      },
      "source": [
        "plt.scatter(df_train2.MILES_DRIVEN,y_train)\n",
        "plt.scatter(df_train2.MILES_DRIVEN,df_train2.predict);"
      ],
      "execution_count": null,
      "outputs": [
        {
          "output_type": "display_data",
          "data": {
            "image/png": "[encoded data removed]",
            "text/plain": [
              "<Figure size 432x288 with 1 Axes>"
            ]
          },
          "metadata": {
            "needs_background": "light"
          }
        }
      ]
    },
    {
      "cell_type": "code",
      "metadata": {
        "id": "VK25YZZwS3FS"
      },
      "source": [
        ""
      ],
      "execution_count": null,
      "outputs": []
    },
    {
      "cell_type": "code",
      "metadata": {
        "id": "BCcUHUBRSeP6"
      },
      "source": [
        "#lamb=stats.boxcox_normmax(df_train2.PRICE, brack=(-1.9, 1.9)) # \"Compute optimal Box-Cox transform parameter for input data, brack for intilization\"\n",
        "#print(\"Lambda:\", lamb)\n",
        "#y_t=(np.power(df_train2.PRICE,-0.2282)-1)/-0.2282 # \"the value of lambda is choosen from the box cox normality plot\"\n",
        "\n",
        "#plt.hist(y_t);"
      ],
      "execution_count": null,
      "outputs": []
    },
    {
      "cell_type": "markdown",
      "metadata": {
        "id": "5rof7kWHS5eq"
      },
      "source": [
        "**Assumption 4: errors are uncorrelated across observations**\n",
        "\n"
      ]
    },
    {
      "cell_type": "code",
      "metadata": {
        "colab": {
          "base_uri": "https://localhost:8080/",
          "height": 280
        },
        "id": "5FMTAZrZS4LJ",
        "outputId": "fbd9c04d-88b8-4af2-886b-76a4964d5d9b"
      },
      "source": [
        "ts = df_train2[['MILES_DRIVEN','resid']].set_index('MILES_DRIVEN')\n",
        "ts.plot(style=\".\");"
      ],
      "execution_count": null,
      "outputs": [
        {
          "output_type": "display_data",
          "data": {
            "image/png": "[encoded data removed]",
            "text/plain": [
              "<Figure size 432x288 with 1 Axes>"
            ]
          },
          "metadata": {
            "needs_background": "light"
          }
        }
      ]
    },
    {
      "cell_type": "markdown",
      "metadata": {
        "id": "QcJMhKe-Tsyf"
      },
      "source": [
        "Assumption 5: no independent variable is a perfect linear function of any other independent variable (no perfect multi-collinearity)"
      ]
    },
    {
      "cell_type": "code",
      "metadata": {
        "id": "apt-3czbTwk-"
      },
      "source": [
        ""
      ],
      "execution_count": null,
      "outputs": []
    },
    {
      "cell_type": "markdown",
      "metadata": {
        "id": "OipnLnR0VdQb"
      },
      "source": [
        "**Feature selection using RFE using the STATSMODELS**\n",
        "\n",
        "\n"
      ]
    },
    {
      "cell_type": "code",
      "metadata": {
        "id": "8BtbC18_-uvT"
      },
      "source": [
        "#features_list = list(range(4, 10)) #checking for optimal number of features between 4 to 30\n",
        "#train_adjusted_r2 = []\n",
        "#train_r2 = []\n",
        "#test_r2 = []\n",
        "#train_RMSE=[]\n",
        "#test_RMSE=[]\n",
        "\n",
        "#for n_features in range(4, 10):\n",
        "\n",
        "    # RFE with n features\n",
        " #   lm = LinearRegression()\n",
        " #   rfe_n = RFE(estimator=lm, n_features_to_select=n_features) # specifying number of features\n",
        "\n",
        "  #  rfe_n.fit(X_train, y_train)  # fit with n features\n",
        "\n",
        "    # selecting features selected by rfe_n\n",
        "   # col_n = X_train.columns[rfe_n.support_] #rfe_n.support_: returns an array with boolean values to indicate whether \n",
        "    #an attribute was selected using RFE"
      ],
      "execution_count": null,
      "outputs": []
    },
    {
      "cell_type": "markdown",
      "metadata": {
        "id": "MsvpzPHuxW2l"
      },
      "source": [
        "Training & test data for n selected columns"
      ]
    },
    {
      "cell_type": "code",
      "metadata": {
        "id": "-xqnyI03Xgw9"
      },
      "source": [
        " #X_train_rfe_n = X_train[col_n]\n",
        " #X_test_rfe_n = X_test[col_n]\n",
        "\n",
        " # add a constant to the model\n",
        "#X_train_rfe_n = sm.add_constant(X_train_rfe_n)\n",
        "#X_test_rfe_n = sm.add_constant(X_test_rfe_n, has_constant='add')"
      ],
      "execution_count": null,
      "outputs": []
    },
    {
      "cell_type": "markdown",
      "metadata": {
        "id": "11TKEkTpxjJB"
      },
      "source": [
        "Fitting the model with n featues"
      ]
    },
    {
      "cell_type": "code",
      "metadata": {
        "id": "_MlUJjGBxkNn"
      },
      "source": [
        "#lm_n = sm.OLS(y_train, X_train_rfe_n).fit()"
      ],
      "execution_count": null,
      "outputs": []
    },
    {
      "cell_type": "markdown",
      "metadata": {
        "id": "8ixyp45YxpJA"
      },
      "source": [
        "Making predictions"
      ]
    },
    {
      "cell_type": "code",
      "metadata": {
        "id": "StgIYS0axp_P"
      },
      "source": [
        "#y_pred_test = lm_n.predict(X_test_rfe_n)\n",
        "#y_pred_train = lm_n.predict(X_train_rfe_n)"
      ],
      "execution_count": null,
      "outputs": []
    },
    {
      "cell_type": "markdown",
      "metadata": {
        "id": "YxMUda7Dx3HS"
      },
      "source": [
        "**Calculating the evaluation metrics**"
      ]
    },
    {
      "cell_type": "markdown",
      "metadata": {
        "id": "yVBmLWXrx7s4"
      },
      "source": [
        "R-square"
      ]
    },
    {
      "cell_type": "code",
      "metadata": {
        "id": "DigKblPvxy2G"
      },
      "source": [
        "#train_adjusted_r2.append(lm_n.rsquared_adj)\n",
        "#train_r2.append(lm_n.rsquared)\n",
        "#test_r2.append(r2_score(y_test, y_pred_test))"
      ],
      "execution_count": null,
      "outputs": []
    },
    {
      "cell_type": "markdown",
      "metadata": {
        "id": "15n3pqA5yHxz"
      },
      "source": [
        "RMSE/stan. error"
      ]
    },
    {
      "cell_type": "code",
      "metadata": {
        "id": "Hwa86f6zyDYX"
      },
      "source": [
        "#error_test=y_pred_test-y_test\n",
        "#error_train=y_pred_train-y_train\n",
        "    \n",
        "#test_RMSE.append(((error_test**2).mean())**0.5)\n",
        "#train_RMSE.append(((error_train**2).mean())**0.5)"
      ],
      "execution_count": null,
      "outputs": []
    },
    {
      "cell_type": "markdown",
      "metadata": {
        "id": "quljy-uTyWZs"
      },
      "source": [
        "Plotting r2 and RMSE against n_features"
      ]
    },
    {
      "cell_type": "code",
      "metadata": {
        "id": "Lk3hus2RyOoy"
      },
      "source": [
        ""
      ],
      "execution_count": null,
      "outputs": []
    },
    {
      "cell_type": "code",
      "metadata": {
        "id": "7VrhfDgf1Tvd"
      },
      "source": [
        ""
      ],
      "execution_count": null,
      "outputs": []
    },
    {
      "cell_type": "markdown",
      "metadata": {
        "id": "2B-FtJuZbHSN"
      },
      "source": [
        "## **Regularized Linear Regression (LASSO)**"
      ]
    },
    {
      "cell_type": "markdown",
      "metadata": {
        "id": "rpH3_g6uwqnh"
      },
      "source": [
        "**Lasso with different lambdas**"
      ]
    },
    {
      "cell_type": "markdown",
      "metadata": {
        "id": "g2PGiw4eIOFm"
      },
      "source": [
        "Apply the Lasso regression on the training set"
      ]
    },
    {
      "cell_type": "code",
      "metadata": {
        "id": "XdRarSaguBhI"
      },
      "source": [
        "lambdas = (0.001, 0.01, 0.1, 0.5, 1, 2, 10)\n",
        "l_num = 7\n",
        "pred_num = X.shape[1]"
      ],
      "execution_count": null,
      "outputs": []
    },
    {
      "cell_type": "markdown",
      "metadata": {
        "id": "w10yw8wEIWFl"
      },
      "source": [
        "prepare data for enumerate"
      ]
    },
    {
      "cell_type": "code",
      "metadata": {
        "id": "7ln6lHj-IY9K"
      },
      "source": [
        "coeff_a = np.zeros((l_num, pred_num))\n",
        "train_r_squared = np.zeros(l_num)\n",
        "validate_r_squared = np.zeros(l_num)"
      ],
      "execution_count": null,
      "outputs": []
    },
    {
      "cell_type": "code",
      "metadata": {
        "id": "Ba5DBD-jwwBA"
      },
      "source": [
        "for ind, i in enumerate(lambdas):    \n",
        "    reg = Lasso(alpha = i)\n",
        "    reg.fit(X_train, y_train)\n",
        "\n",
        "    coeff_a[ind,:] = reg.coef_\n",
        "    train_r_squared[ind] = reg.score(X_train, y_train)\n",
        "    validate_r_squared[ind] = reg.score(X_val, y_val)"
      ],
      "execution_count": null,
      "outputs": []
    },
    {
      "cell_type": "markdown",
      "metadata": {
        "id": "c4smI99Dw4HS"
      },
      "source": [
        "Plot all values in the train and test set for both data sets \n",
        "R\n",
        "2\n",
        "-values as a function of λ. "
      ]
    },
    {
      "cell_type": "code",
      "metadata": {
        "colab": {
          "base_uri": "https://localhost:8080/",
          "height": 310
        },
        "id": "xRCSIOj-wz07",
        "outputId": "acdfce90-ac06-4727-fe40-6d69c868d562"
      },
      "source": [
        "# Plotting\n",
        "plt.figure(figsize=(18, 8))\n",
        "plt.plot(train_r_squared, 'bo-', label=r'$R^2$ Training set', color=\"darkblue\",alpha=0.5,  linewidth=4)\n",
        "plt.plot(validate_r_squared, 'bo-', label=r'$R^2$ Vlidate set', color=\"darkgreen\",alpha=0.5, linewidth=4)\n",
        "plt.xlabel('Lamda index'); plt.ylabel(r'$R^2$')\n",
        "plt.xlim(0, 6)\n",
        "plt.title(r'Evaluate lasso regression with lamdas: 0 = 0.001, 1= 0.01, 2 = 0.1, 3 = 0.5, 4= 1, 5= 2, 6 = 10')\n",
        "plt.legend(loc='best')\n",
        "plt.grid()"
      ],
      "execution_count": null,
      "outputs": [
        {
          "output_type": "display_data",
          "data": {
            "image/png": "[encoded data removed]",
            "text/plain": [
              "<Figure size 1296x576 with 1 Axes>"
            ]
          },
          "metadata": {
            "needs_background": "light"
          }
        }
      ]
    },
    {
      "cell_type": "markdown",
      "metadata": {
        "id": "6imQ5IfGxH-q"
      },
      "source": [
        "**Identify best lambda and coefficients**"
      ]
    },
    {
      "cell_type": "markdown",
      "metadata": {
        "id": "nBZLjDXgJ35e"
      },
      "source": [
        "save the test set into DataFrame"
      ]
    },
    {
      "cell_type": "code",
      "metadata": {
        "id": "mIoQmTzKKEzw"
      },
      "source": [
        "df_lam = pd.DataFrame(validate_r_squared*100, columns=['R_squared'])\n",
        "df_lam['lambda'] = (lambdas)"
      ],
      "execution_count": null,
      "outputs": []
    },
    {
      "cell_type": "markdown",
      "metadata": {
        "id": "OYDjWwW7KPig"
      },
      "source": [
        "Indentify the lambda where the \n",
        "R\n",
        "2\n",
        " has it’s maximum value"
      ]
    },
    {
      "cell_type": "code",
      "metadata": {
        "colab": {
          "base_uri": "https://localhost:8080/"
        },
        "id": "ogRQ0e1Uw7A_",
        "outputId": "223df630-67dd-4dbd-cf23-7bc2c8f4a8b3"
      },
      "source": [
        "df_lam.loc[df_lam['R_squared'].idxmax()] # returns the index of the row."
      ],
      "execution_count": null,
      "outputs": [
        {
          "output_type": "execute_result",
          "data": {
            "text/plain": [
              "R_squared    66.121861\n",
              "lambda        0.100000\n",
              "Name: 2, dtype: float64"
            ]
          },
          "metadata": {},
          "execution_count": 96
        }
      ]
    },
    {
      "cell_type": "markdown",
      "metadata": {
        "id": "iHUHQoQsKiOI"
      },
      "source": [
        "Fit a Lasso model using the training set and obtain the corresponding regression coefficients"
      ]
    },
    {
      "cell_type": "code",
      "metadata": {
        "colab": {
          "base_uri": "https://localhost:8080/"
        },
        "id": "o312jQZ5xLE9",
        "outputId": "78182f63-02e2-4407-8db9-c3f2eca733fb"
      },
      "source": [
        "reg_best = Lasso(alpha = 0.01)\n",
        "reg_best.fit(X_train, y_train)"
      ],
      "execution_count": null,
      "outputs": [
        {
          "output_type": "execute_result",
          "data": {
            "text/plain": [
              "Lasso(alpha=0.01, copy_X=True, fit_intercept=True, max_iter=1000,\n",
              "      normalize=False, positive=False, precompute=False, random_state=None,\n",
              "      selection='cyclic', tol=0.0001, warm_start=False)"
            ]
          },
          "metadata": {},
          "execution_count": 97
        }
      ]
    },
    {
      "cell_type": "markdown",
      "metadata": {
        "id": "g611mKnFLFk3"
      },
      "source": [
        "R^2 for the validation set"
      ]
    },
    {
      "cell_type": "code",
      "metadata": {
        "colab": {
          "base_uri": "https://localhost:8080/"
        },
        "id": "lNLrdl8NxdiG",
        "outputId": "72c69569-9954-43e1-9ce2-e1a45e08a2c9"
      },
      "source": [
        "print(\" R^2 for the Validation:\", r2_score(y_val,  reg_best.predict(X_val)))"
      ],
      "execution_count": null,
      "outputs": [
        {
          "output_type": "stream",
          "name": "stdout",
          "text": [
            " R^2 for the Validation: 0.6539277294442638\n"
          ]
        }
      ]
    },
    {
      "cell_type": "markdown",
      "metadata": {
        "id": "vCu77wJ-xyUs"
      },
      "source": [
        "Cross Validation"
      ]
    },
    {
      "cell_type": "markdown",
      "metadata": {
        "id": "DnR76pdaNDNr"
      },
      "source": [
        "Evaluate the Lasso regression for different regularization parameters (lamdas) using 5 fold cross validation "
      ]
    },
    {
      "cell_type": "code",
      "metadata": {
        "id": "gwlzB9elxkSa"
      },
      "source": [
        "l_min = 0.05\n",
        "l_max = 0.2\n",
        "l_num = 20\n",
        "lambdas = np.linspace(l_min,l_max, l_num)\n",
        "\n",
        "train_r_squared = np.zeros(l_num)\n",
        "test_r_squared = np.zeros(l_num)\n",
        "\n",
        "pred_num = X.shape[1]\n",
        "coeff_a = np.zeros((l_num, pred_num))"
      ],
      "execution_count": null,
      "outputs": []
    },
    {
      "cell_type": "code",
      "metadata": {
        "id": "VxILGhiwx2Hx"
      },
      "source": [
        "for ind, i in enumerate(lambdas):    \n",
        "    reg = Lasso(alpha = i)\n",
        "    reg.fit(X_train, y_train)\n",
        "    results = cross_val_score(reg, X, y, cv=5, scoring=\"r2\")\n",
        "\n",
        "    train_r_squared[ind] = reg.score(X_train, y_train)    \n",
        "    test_r_squared[ind] = reg.score(X_test, y_test)"
      ],
      "execution_count": null,
      "outputs": []
    },
    {
      "cell_type": "code",
      "metadata": {
        "colab": {
          "base_uri": "https://localhost:8080/",
          "height": 309
        },
        "id": "uX03r4NUT0w2",
        "outputId": "31065e9d-cf0d-454b-c2cd-4ecfc0118e80"
      },
      "source": [
        "# Plotting\n",
        "plt.figure(figsize=(18, 8))\n",
        "plt.plot(train_r_squared, 'bo-', label=r'$R^2$ Training set', color=\"darkblue\", alpha=0.5, linewidth=4)\n",
        "plt.plot(test_r_squared, 'bo-', label=r'$R^2$ Test set', color=\"darkgreen\", alpha=0.5, linewidth=4)\n",
        "plt.xlabel('Lamda value'); plt.ylabel(r'$R^2$')\n",
        "plt.xlim(0, 19)\n",
        "plt.title(r'Evaluate 5-fold cv with different lamdas')\n",
        "plt.legend(loc='best')\n",
        "plt.grid()"
      ],
      "execution_count": null,
      "outputs": [
        {
          "output_type": "display_data",
          "data": {
            "image/png": "[encoded data removed]",
            "text/plain": [
              "<Figure size 1296x576 with 1 Axes>"
            ]
          },
          "metadata": {
            "needs_background": "light"
          }
        }
      ]
    },
    {
      "cell_type": "markdown",
      "metadata": {
        "id": "RODqGc3IyDn1"
      },
      "source": [
        "Best Model"
      ]
    },
    {
      "cell_type": "code",
      "metadata": {
        "colab": {
          "base_uri": "https://localhost:8080/"
        },
        "id": "8KHdnI-ux7yY",
        "outputId": "dca7f8ca-5ec7-43b2-82d4-d3b868160f9a"
      },
      "source": [
        "df_lam = pd.DataFrame(test_r_squared*100, columns=['R_squared'])\n",
        "df_lam['lambda'] = (lambdas)\n",
        "df_lam.loc[df_lam['R_squared'].idxmax()]"
      ],
      "execution_count": null,
      "outputs": [
        {
          "output_type": "execute_result",
          "data": {
            "text/plain": [
              "R_squared    62.474675\n",
              "lambda        0.065789\n",
              "Name: 2, dtype: float64"
            ]
          },
          "metadata": {},
          "execution_count": 102
        }
      ]
    },
    {
      "cell_type": "code",
      "metadata": {
        "colab": {
          "base_uri": "https://localhost:8080/"
        },
        "id": "ZPit6peTyF0I",
        "outputId": "55dbc517-4a86-4b20-f8ba-de25b6617088"
      },
      "source": [
        "reg_best = Lasso(alpha = 0.05)\n",
        "reg_best.fit(X_train, y_train)"
      ],
      "execution_count": null,
      "outputs": [
        {
          "output_type": "execute_result",
          "data": {
            "text/plain": [
              "Lasso(alpha=0.05, copy_X=True, fit_intercept=True, max_iter=1000,\n",
              "      normalize=False, positive=False, precompute=False, random_state=None,\n",
              "      selection='cyclic', tol=0.0001, warm_start=False)"
            ]
          },
          "metadata": {},
          "execution_count": 103
        }
      ]
    },
    {
      "cell_type": "code",
      "metadata": {
        "colab": {
          "base_uri": "https://localhost:8080/"
        },
        "id": "NWhgFB1MyLWc",
        "outputId": "33613290-44c2-4ec9-df7b-4b00a5cdda05"
      },
      "source": [
        "print(\" R^2=\", r2_score(y_test,  reg_best.predict(X_test)))"
      ],
      "execution_count": null,
      "outputs": [
        {
          "output_type": "stream",
          "name": "stdout",
          "text": [
            " R^2= 0.6238808549313377\n"
          ]
        }
      ]
    },
    {
      "cell_type": "markdown",
      "metadata": {
        "id": "qST1z20TAApA"
      },
      "source": [
        "@@@@@@@@@@@@@@@@@@@@@@@@@@@@@@@@@"
      ]
    },
    {
      "cell_type": "code",
      "metadata": {
        "colab": {
          "base_uri": "https://localhost:8080/"
        },
        "id": "smhyQ1YUyXqz",
        "outputId": "ff697b44-fbae-4f47-8117-14af04968192"
      },
      "source": [
        "# Create model\n",
        "model_l = Lasso(alpha=0.002)\n",
        "\n",
        "# Fit model\n",
        "model_l.fit(X_train, y_train)\n",
        "predictions = model_l.predict(X_train)\n",
        "print(\"Train:\", r2_score(y_train, predictions))\n",
        "\n",
        "# Evaluate\n",
        "predictions = model_l.predict(X_val)\n",
        "print(\"Validation:\", r2_score(y_val, predictions))"
      ],
      "execution_count": null,
      "outputs": [
        {
          "output_type": "stream",
          "name": "stdout",
          "text": [
            "Train: 0.7069422647448813\n",
            "Validation: 0.6515371074177834\n"
          ]
        }
      ]
    },
    {
      "cell_type": "code",
      "metadata": {
        "colab": {
          "base_uri": "https://localhost:8080/"
        },
        "id": "DVBT2nw2ACYj",
        "outputId": "70f7997f-5ed9-43ec-d991-649649bd68b0"
      },
      "source": [
        "from sklearn.linear_model import LassoCV\n",
        "# Create 5 folds\n",
        "kfold = KFold(n_splits=5, shuffle=True, random_state=13)\n",
        "\n",
        "# Create model\n",
        "model_lcv = LassoCV(cv=kfold)\n",
        "\n",
        "# Fit model\n",
        "model_lcv.fit(X_train, y_train)\n",
        "predictions = model_lcv.predict(X_train)\n",
        "print(\"Train:\", r2_score(y_train, predictions))\n",
        "\n",
        "# Evaluate\n",
        "predictions = model_lcv.predict(X_val)\n",
        "print(\"Validation:\", r2_score(y_val, predictions))\n",
        "\n",
        "print(\"Alpha:\", model_lcv.alpha_)"
      ],
      "execution_count": null,
      "outputs": [
        {
          "output_type": "stream",
          "name": "stdout",
          "text": [
            "Train: 0.7030603218914622\n",
            "Validation: 0.6596382435117242\n",
            "Alpha: 0.023203678443060843\n"
          ]
        }
      ]
    },
    {
      "cell_type": "code",
      "metadata": {
        "id": "W1PAmP_MG2Pf"
      },
      "source": [
        ""
      ],
      "execution_count": null,
      "outputs": []
    }
  ]
}